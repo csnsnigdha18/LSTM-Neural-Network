{
  "nbformat": 4,
  "nbformat_minor": 0,
  "metadata": {
    "colab": {
      "provenance": [],
      "authorship_tag": "ABX9TyMIEV1ASyR7uHrQ9cJ+TN1A",
      "include_colab_link": true
    },
    "kernelspec": {
      "name": "python3",
      "display_name": "Python 3"
    },
    "language_info": {
      "name": "python"
    }
  },
  "cells": [
    {
      "cell_type": "markdown",
      "metadata": {
        "id": "view-in-github",
        "colab_type": "text"
      },
      "source": [
        "<a href=\"https://colab.research.google.com/github/csnsnigdha18/Time-Series-Forecasting-and-Point-Anomaly-Detection-of-Sensor-Signals-Using-LSTM-Neural-Network-Arch/blob/main/Code/Covid19_Cases_Prediction.ipynb\" target=\"_parent\"><img src=\"https://colab.research.google.com/assets/colab-badge.svg\" alt=\"Open In Colab\"/></a>"
      ]
    },
    {
      "cell_type": "code",
      "execution_count": null,
      "metadata": {
        "id": "Rf1DNdm7YM7Q"
      },
      "outputs": [],
      "source": [
        "import pandas as pd\n",
        "import numpy as np\n",
        "import matplotlib.pyplot as plt"
      ]
    },
    {
      "cell_type": "code",
      "source": [
        "country = \"US\"\n",
        "#country = 'India'"
      ],
      "metadata": {
        "id": "cIvPSeBmYgLH"
      },
      "execution_count": null,
      "outputs": []
    },
    {
      "cell_type": "code",
      "source": [
        "#Total COVID confirmed cases\n",
        "df_confirmed = pd.read_csv(\"https://raw.githubusercontent.com/CSSEGISandData/COVID-19/master/csse_covid_19_data/csse_covid_19_time_series/time_series_covid19_confirmed_global.csv\")"
      ],
      "metadata": {
        "id": "RAhXxRYLYlXf"
      },
      "execution_count": null,
      "outputs": []
    },
    {
      "cell_type": "code",
      "source": [
        "#df_confirmed.to_csv('global.csv')\n",
        "df_confirmed_country = df_confirmed[df_confirmed[\"Country/Region\"] == country]\n",
        "df_confirmed_country = pd.DataFrame(df_confirmed_country[df_confirmed_country.columns[4:]].sum(),columns=[\"confirmed\"])\n",
        "df_confirmed_country.index = pd.to_datetime(df_confirmed_country.index,format='%m/%d/%y')\n",
        "\n",
        "df_confirmed_country.plot(figsize=(10,5),title=\"COVID confirmed cases\")\n",
        "\n",
        "df_confirmed_country.tail(10)\n",
        "\n",
        "print(\"Total days in the dataset\", len(df_confirmed_country))"
      ],
      "metadata": {
        "colab": {
          "base_uri": "https://localhost:8080/",
          "height": 364
        },
        "id": "p_e-5kOoYxQw",
        "outputId": "c8921319-d805-402b-e15f-d3656d412674"
      },
      "execution_count": null,
      "outputs": [
        {
          "output_type": "stream",
          "name": "stdout",
          "text": [
            "Total days in the dataset 995\n"
          ]
        },
        {
          "output_type": "display_data",
          "data": {
            "text/plain": [
              "<Figure size 720x360 with 1 Axes>"
            ],
            "image/png": "[encoded data removed]"
          },
          "metadata": {
            "needs_background": "light"
          }
        }
      ]
    },
    {
      "cell_type": "code",
      "source": [
        "#Use data until 14 days before as training\n",
        "x = len(df_confirmed_country)-14\n",
        "\n",
        "train=df_confirmed_country.iloc[:x]\n",
        "test = df_confirmed_country.iloc[x:]\n",
        "\n",
        "##scale or normalize data as the data is too skewed\n",
        "from sklearn.preprocessing import MinMaxScaler\n",
        "scaler = MinMaxScaler()\n",
        "scaler.fit(train)\n",
        "\n",
        "train_scaled = scaler.transform(train)\n",
        "test_scaled = scaler.transform(test)"
      ],
      "metadata": {
        "id": "74zlDoZ-Y3SO"
      },
      "execution_count": null,
      "outputs": []
    },
    {
      "cell_type": "code",
      "source": [
        "## Use TimeSeriestrain_generator to generate data in sequences.\n",
        "#Alternatively we can create our own sequences.\n",
        "from keras.preprocessing.sequence import TimeseriesGenerator"
      ],
      "metadata": {
        "id": "0NoMAAMaY9Tn"
      },
      "execution_count": null,
      "outputs": []
    },
    {
      "cell_type": "code",
      "source": [
        "#Sequence size has an impact on prediction, especially since COVID is unpredictable!\n",
        "seq_size = 7  ## number of steps (lookback)\n",
        "n_features = 1 ## number of features. This dataset is univariate so it is 1\n",
        "train_generator = TimeseriesGenerator(train_scaled, train_scaled, length = seq_size, batch_size=1)\n",
        "print(\"Total number of samples in the original training data = \", len(train)) # 271\n",
        "print(\"Total number of samples in the generated data = \", len(train_generator)) # 264 with seq_size=7\n"
      ],
      "metadata": {
        "colab": {
          "base_uri": "https://localhost:8080/"
        },
        "id": "wz_1S-cvZD16",
        "outputId": "731efa61-8309-42fe-99e2-2c265293bd07"
      },
      "execution_count": null,
      "outputs": [
        {
          "output_type": "stream",
          "name": "stdout",
          "text": [
            "Total number of samples in the original training data =  981\n",
            "Total number of samples in the generated data =  974\n"
          ]
        }
      ]
    },
    {
      "cell_type": "code",
      "source": [
        "#Check data shape from generator\n",
        "x,y = train_generator[10]  #Check train_generator\n",
        "#Takes 7 days as x and 8th day as y (for seq_size=7)\n"
      ],
      "metadata": {
        "id": "sY1P4_z5ZJYR"
      },
      "execution_count": null,
      "outputs": []
    },
    {
      "cell_type": "code",
      "source": [
        "#Also generate test data\n",
        "test_generator = TimeseriesGenerator(test_scaled, test_scaled, length=seq_size, batch_size=1)\n",
        "print(\"Total number of samples in the original training data = \", len(test)) # 14 as we're using last 14 days for test\n",
        "print(\"Total number of samples in the generated data = \", len(test_generator)) # 7"
      ],
      "metadata": {
        "colab": {
          "base_uri": "https://localhost:8080/"
        },
        "id": "_B9WevkoZRYR",
        "outputId": "d173bf09-278a-408d-d3fd-16c898786201"
      },
      "execution_count": null,
      "outputs": [
        {
          "output_type": "stream",
          "name": "stdout",
          "text": [
            "Total number of samples in the original training data =  14\n",
            "Total number of samples in the generated data =  7\n"
          ]
        }
      ]
    },
    {
      "cell_type": "code",
      "source": [
        "#Check data shape from generator\n",
        "x,y = test_generator[0]\n",
        "\n",
        "from keras.models import Sequential\n",
        "from keras.layers import Dense, LSTM, Dropout, Activation"
      ],
      "metadata": {
        "id": "Z49fcjiVZS_7"
      },
      "execution_count": null,
      "outputs": []
    },
    {
      "cell_type": "code",
      "source": [
        "#Define Model\n",
        "model = Sequential()\n",
        "model.add(LSTM(150, activation='relu', return_sequences=True, input_shape=(seq_size, n_features)))\n",
        "model.add(LSTM(64, activation='relu'))\n",
        "model.add(Dense(64))\n",
        "model.add(Dense(1))\n",
        "model.compile(optimizer='adam', loss='mean_squared_error')\n",
        "\n",
        "model.summary()\n",
        "print('Train...')\n",
        "##########################\n",
        "\n",
        "history = model.fit_generator(train_generator,\n",
        "                              validation_data=test_generator,\n",
        "                              epochs=50, steps_per_epoch=10)"
      ],
      "metadata": {
        "colab": {
          "base_uri": "https://localhost:8080/"
        },
        "id": "yS55iBgNZXie",
        "outputId": "f68b60b6-2981-477b-e193-24d9489720f4"
      },
      "execution_count": null,
      "outputs": [
        {
          "output_type": "stream",
          "name": "stdout",
          "text": [
            "Model: \"sequential\"\n",
            "_________________________________________________________________\n",
            " Layer (type)                Output Shape              Param #   \n",
            "=================================================================\n",
            " lstm (LSTM)                 (None, 7, 150)            91200     \n",
            "                                                                 \n",
            " lstm_1 (LSTM)               (None, 64)                55040     \n",
            "                                                                 \n",
            " dense (Dense)               (None, 64)                4160      \n",
            "                                                                 \n",
            " dense_1 (Dense)             (None, 1)                 65        \n",
            "                                                                 \n",
            "=================================================================\n",
            "Total params: 150,465\n",
            "Trainable params: 150,465\n",
            "Non-trainable params: 0\n",
            "_________________________________________________________________\n",
            "Train...\n",
            "Epoch 1/50\n"
          ]
        },
        {
          "output_type": "stream",
          "name": "stderr",
          "text": [
            "/usr/local/lib/python3.7/dist-packages/ipykernel_launcher.py:15: UserWarning: `Model.fit_generator` is deprecated and will be removed in a future version. Please use `Model.fit`, which supports generators.\n",
            "  from ipykernel import kernelapp as app\n"
          ]
        },
        {
          "output_type": "stream",
          "name": "stdout",
          "text": [
            "10/10 [==============================] - 3s 62ms/step - loss: 0.5227 - val_loss: 0.2803\n",
            "Epoch 2/50\n",
            "10/10 [==============================] - 0s 15ms/step - loss: 0.0408 - val_loss: 0.0282\n",
            "Epoch 3/50\n",
            "10/10 [==============================] - 0s 20ms/step - loss: 0.0223 - val_loss: 0.0614\n",
            "Epoch 4/50\n",
            "10/10 [==============================] - 0s 39ms/step - loss: 0.0187 - val_loss: 2.3106e-07\n",
            "Epoch 5/50\n",
            "10/10 [==============================] - 0s 32ms/step - loss: 0.0090 - val_loss: 0.0154\n",
            "Epoch 6/50\n",
            "10/10 [==============================] - 0s 27ms/step - loss: 0.0050 - val_loss: 0.0317\n",
            "Epoch 7/50\n",
            "10/10 [==============================] - 0s 36ms/step - loss: 0.0027 - val_loss: 7.5892e-04\n",
            "Epoch 8/50\n",
            "10/10 [==============================] - 0s 44ms/step - loss: 0.0012 - val_loss: 0.0010\n",
            "Epoch 9/50\n",
            "10/10 [==============================] - 0s 34ms/step - loss: 3.9758e-04 - val_loss: 2.4918e-04\n",
            "Epoch 10/50\n",
            "10/10 [==============================] - 0s 19ms/step - loss: 1.2814e-04 - val_loss: 2.8442e-04\n",
            "Epoch 11/50\n",
            "10/10 [==============================] - 0s 14ms/step - loss: 7.8023e-05 - val_loss: 1.7865e-04\n",
            "Epoch 12/50\n",
            "10/10 [==============================] - 0s 18ms/step - loss: 3.5517e-04 - val_loss: 0.0032\n",
            "Epoch 13/50\n",
            "10/10 [==============================] - 0s 13ms/step - loss: 1.1780e-04 - val_loss: 2.2909e-05\n",
            "Epoch 14/50\n",
            "10/10 [==============================] - 0s 17ms/step - loss: 7.2491e-05 - val_loss: 1.5824e-04\n",
            "Epoch 15/50\n",
            "10/10 [==============================] - 0s 13ms/step - loss: 3.1980e-04 - val_loss: 8.5428e-04\n",
            "Epoch 16/50\n",
            "10/10 [==============================] - 0s 14ms/step - loss: 8.0870e-05 - val_loss: 0.0012\n",
            "Epoch 17/50\n",
            "10/10 [==============================] - 0s 14ms/step - loss: 1.9566e-04 - val_loss: 3.0999e-06\n",
            "Epoch 18/50\n",
            "10/10 [==============================] - 0s 13ms/step - loss: 1.4917e-04 - val_loss: 0.0036\n",
            "Epoch 19/50\n",
            "10/10 [==============================] - 0s 13ms/step - loss: 5.3933e-04 - val_loss: 2.7040e-06\n",
            "Epoch 20/50\n",
            "10/10 [==============================] - 0s 17ms/step - loss: 3.2576e-04 - val_loss: 7.1644e-05\n",
            "Epoch 21/50\n",
            "10/10 [==============================] - 0s 14ms/step - loss: 3.2088e-04 - val_loss: 4.4226e-04\n",
            "Epoch 22/50\n",
            "10/10 [==============================] - 0s 13ms/step - loss: 2.1449e-04 - val_loss: 0.0016\n",
            "Epoch 23/50\n",
            "10/10 [==============================] - 0s 14ms/step - loss: 3.3695e-04 - val_loss: 4.1743e-05\n",
            "Epoch 24/50\n",
            "10/10 [==============================] - 0s 16ms/step - loss: 3.8412e-04 - val_loss: 0.0018\n",
            "Epoch 25/50\n",
            "10/10 [==============================] - 0s 16ms/step - loss: 6.4797e-04 - val_loss: 3.2286e-04\n",
            "Epoch 26/50\n",
            "10/10 [==============================] - 0s 16ms/step - loss: 1.0375e-04 - val_loss: 4.5374e-05\n",
            "Epoch 27/50\n",
            "10/10 [==============================] - 0s 16ms/step - loss: 4.1063e-05 - val_loss: 1.7873e-05\n",
            "Epoch 28/50\n",
            "10/10 [==============================] - 0s 16ms/step - loss: 3.1778e-05 - val_loss: 1.7608e-04\n",
            "Epoch 29/50\n",
            "10/10 [==============================] - 0s 19ms/step - loss: 2.8772e-05 - val_loss: 3.2793e-04\n",
            "Epoch 30/50\n",
            "10/10 [==============================] - 0s 17ms/step - loss: 3.6128e-05 - val_loss: 1.8958e-04\n",
            "Epoch 31/50\n",
            "10/10 [==============================] - 0s 18ms/step - loss: 4.9954e-05 - val_loss: 1.8403e-04\n",
            "Epoch 32/50\n",
            "10/10 [==============================] - 0s 20ms/step - loss: 2.1620e-04 - val_loss: 5.4426e-04\n",
            "Epoch 33/50\n",
            "10/10 [==============================] - 0s 16ms/step - loss: 2.5867e-05 - val_loss: 8.3004e-04\n",
            "Epoch 34/50\n",
            "10/10 [==============================] - 0s 17ms/step - loss: 1.5928e-04 - val_loss: 5.1613e-04\n",
            "Epoch 35/50\n",
            "10/10 [==============================] - 0s 14ms/step - loss: 1.4458e-05 - val_loss: 1.3966e-04\n",
            "Epoch 36/50\n",
            "10/10 [==============================] - 0s 14ms/step - loss: 7.4990e-05 - val_loss: 4.1820e-05\n",
            "Epoch 37/50\n",
            "10/10 [==============================] - 0s 13ms/step - loss: 7.3875e-06 - val_loss: 1.5966e-05\n",
            "Epoch 38/50\n",
            "10/10 [==============================] - 0s 17ms/step - loss: 2.1102e-05 - val_loss: 2.6751e-04\n",
            "Epoch 39/50\n",
            "10/10 [==============================] - 0s 16ms/step - loss: 2.7307e-05 - val_loss: 1.6755e-04\n",
            "Epoch 40/50\n",
            "10/10 [==============================] - 0s 16ms/step - loss: 3.4500e-05 - val_loss: 1.0445e-04\n",
            "Epoch 41/50\n",
            "10/10 [==============================] - 0s 20ms/step - loss: 5.5316e-05 - val_loss: 6.4581e-04\n",
            "Epoch 42/50\n",
            "10/10 [==============================] - 0s 17ms/step - loss: 1.1231e-04 - val_loss: 9.3316e-04\n",
            "Epoch 43/50\n",
            "10/10 [==============================] - 0s 16ms/step - loss: 1.3414e-04 - val_loss: 7.7660e-04\n",
            "Epoch 44/50\n",
            "10/10 [==============================] - 0s 16ms/step - loss: 1.6315e-04 - val_loss: 9.4547e-05\n",
            "Epoch 45/50\n",
            "10/10 [==============================] - 0s 21ms/step - loss: 1.8211e-05 - val_loss: 4.4035e-04\n",
            "Epoch 46/50\n",
            "10/10 [==============================] - 0s 20ms/step - loss: 1.3160e-04 - val_loss: 0.0019\n",
            "Epoch 47/50\n",
            "10/10 [==============================] - 0s 16ms/step - loss: 2.8187e-04 - val_loss: 6.3363e-05\n",
            "Epoch 48/50\n",
            "10/10 [==============================] - 0s 20ms/step - loss: 6.4911e-05 - val_loss: 4.3309e-04\n",
            "Epoch 49/50\n",
            "10/10 [==============================] - 0s 18ms/step - loss: 4.0793e-05 - val_loss: 2.0640e-04\n",
            "Epoch 50/50\n",
            "10/10 [==============================] - 0s 16ms/step - loss: 2.5339e-05 - val_loss: 1.2130e-04\n"
          ]
        }
      ]
    },
    {
      "cell_type": "code",
      "source": [
        "#plot the training and validation accuracy and loss at each epoch\n",
        "loss = history.history['loss']\n",
        "val_loss = history.history['val_loss']\n",
        "epochs = range(1, len(loss) + 1)\n",
        "plt.plot(epochs, loss, 'y', label='Training loss')\n",
        "plt.plot(epochs, val_loss, 'r', label='Validation loss')\n",
        "plt.title('Training and validation loss')\n",
        "plt.xlabel('Epochs')\n",
        "plt.ylabel('Loss')\n",
        "plt.legend()\n",
        "plt.show()\n"
      ],
      "metadata": {
        "colab": {
          "base_uri": "https://localhost:8080/",
          "height": 295
        },
        "id": "NtXO8wdMZibc",
        "outputId": "c4e96e0c-5708-4914-b2d8-c6c862f671ec"
      },
      "execution_count": null,
      "outputs": [
        {
          "output_type": "display_data",
          "data": {
            "text/plain": [
              "<Figure size 432x288 with 1 Axes>"
            ],
            "image/png": "[encoded data removed]"
          },
          "metadata": {
            "needs_background": "light"
          }
        }
      ]
    },
    {
      "cell_type": "code",
      "source": [
        "#forecast\n",
        "prediction = [] #Empty list to populate later with predictions\n",
        "\n",
        "current_batch = train_scaled[-seq_size:] #Final data points in train\n",
        "current_batch = current_batch.reshape(1, seq_size, n_features) #Reshape\n"
      ],
      "metadata": {
        "id": "u0T5c2QQZnrb"
      },
      "execution_count": null,
      "outputs": []
    },
    {
      "cell_type": "code",
      "source": [
        "## Predict future, beyond test dates\n",
        "future = 7 #Days\n",
        "for i in range(len(test) + future):\n",
        "    current_pred = model.predict(current_batch)[0]\n",
        "    prediction.append(current_pred)\n",
        "    current_batch = np.append(current_batch[:,1:,:],[[current_pred]],axis=1)\n"
      ],
      "metadata": {
        "id": "TyfaDpDZZtKE",
        "colab": {
          "base_uri": "https://localhost:8080/"
        },
        "outputId": "ac0511c4-4e1f-4c95-c409-5f3c5806113e"
      },
      "execution_count": null,
      "outputs": [
        {
          "output_type": "stream",
          "name": "stdout",
          "text": [
            "1/1 [==============================] - 0s 378ms/step\n",
            "1/1 [==============================] - 0s 21ms/step\n",
            "1/1 [==============================] - 0s 21ms/step\n",
            "1/1 [==============================] - 0s 19ms/step\n",
            "1/1 [==============================] - 0s 18ms/step\n",
            "1/1 [==============================] - 0s 18ms/step\n",
            "1/1 [==============================] - 0s 22ms/step\n",
            "1/1 [==============================] - 0s 21ms/step\n",
            "1/1 [==============================] - 0s 23ms/step\n",
            "1/1 [==============================] - 0s 21ms/step\n",
            "1/1 [==============================] - 0s 26ms/step\n",
            "1/1 [==============================] - 0s 17ms/step\n",
            "1/1 [==============================] - 0s 17ms/step\n",
            "1/1 [==============================] - 0s 18ms/step\n",
            "1/1 [==============================] - 0s 18ms/step\n",
            "1/1 [==============================] - 0s 18ms/step\n",
            "1/1 [==============================] - 0s 18ms/step\n",
            "1/1 [==============================] - 0s 18ms/step\n",
            "1/1 [==============================] - 0s 25ms/step\n",
            "1/1 [==============================] - 0s 21ms/step\n",
            "1/1 [==============================] - 0s 18ms/step\n"
          ]
        }
      ]
    },
    {
      "cell_type": "code",
      "source": [
        "### Inverse transform to before scaling so we get actual numbers\n",
        "rescaled_prediction = scaler.inverse_transform(prediction)\n",
        "\n",
        "time_series_array = test.index  #Get dates for test data\n"
      ],
      "metadata": {
        "id": "F1r2tRuQZxQ9"
      },
      "execution_count": null,
      "outputs": []
    },
    {
      "cell_type": "code",
      "source": [
        "#Add new dates for the forecast period\n",
        "for k in range(0, future):\n",
        "    time_series_array = time_series_array.append(time_series_array[-1:] + pd.DateOffset(1))"
      ],
      "metadata": {
        "id": "UvATAYxPZ2H8"
      },
      "execution_count": null,
      "outputs": []
    },
    {
      "cell_type": "code",
      "source": [
        "#Create a dataframe to capture the forecast data\n",
        "df_forecast = pd.DataFrame(columns=[\"actual_confirmed\",\"predicted\"], index=time_series_array)\n",
        "\n",
        "df_forecast.loc[:,\"predicted\"] = rescaled_prediction[:,0]\n",
        "df_forecast.loc[:,\"actual_confirmed\"] = test[\"confirmed\"]\n"
      ],
      "metadata": {
        "id": "K1oVIX7PZ6bf"
      },
      "execution_count": null,
      "outputs": []
    },
    {
      "cell_type": "code",
      "source": [
        "#Plot\n",
        "df_forecast.plot(title=\"Predictions for next 7 days\")\n",
        "\n",
        ""
      ],
      "metadata": {
        "colab": {
          "base_uri": "https://localhost:8080/",
          "height": 322
        },
        "id": "A8WR6S0iZ94c",
        "outputId": "02e8a3cb-d6ff-4e0b-fac5-f583c73b5654"
      },
      "execution_count": null,
      "outputs": [
        {
          "output_type": "execute_result",
          "data": {
            "text/plain": [
              "<matplotlib.axes._subplots.AxesSubplot at 0x7f745f419a10>"
            ]
          },
          "metadata": {},
          "execution_count": 20
        },
        {
          "output_type": "display_data",
          "data": {
            "text/plain": [
              "<Figure size 432x288 with 1 Axes>"
            ],
            "image/png": "[encoded data removed]"
          },
          "metadata": {
            "needs_background": "light"
          }
        }
      ]
    }
  ]
}