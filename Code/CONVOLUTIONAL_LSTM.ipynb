{
  "nbformat": 4,
  "nbformat_minor": 0,
  "metadata": {
    "colab": {
      "provenance": [],
      "authorship_tag": "ABX9TyOsMSzri+XvjsRAm21gsfnt",
      "include_colab_link": true
    },
    "kernelspec": {
      "name": "python3",
      "display_name": "Python 3"
    },
    "language_info": {
      "name": "python"
    }
  },
  "cells": [
    {
      "cell_type": "markdown",
      "metadata": {
        "id": "view-in-github",
        "colab_type": "text"
      },
      "source": [
        "<a href=\"https://colab.research.google.com/github/csnsnigdha18/Time-Series-Forecasting-and-Point-Anomaly-Detection-of-Sensor-Signals-Using-LSTM-Neural-Network-Arch/blob/main/Code/CONVOLUTIONAL_LSTM.ipynb\" target=\"_parent\"><img src=\"https://colab.research.google.com/assets/colab-badge.svg\" alt=\"Open In Colab\"/></a>"
      ]
    },
    {
      "cell_type": "code",
      "execution_count": null,
      "metadata": {
        "id": "NawFos_HikdB"
      },
      "outputs": [],
      "source": [
        "import numpy as np\n",
        "import matplotlib.pyplot as plt\n",
        "from pandas import read_csv\n",
        "import math"
      ]
    },
    {
      "cell_type": "code",
      "source": [
        "from keras.models import Sequential\n",
        "from keras.layers import Dense\n",
        "from keras.layers import LSTM, Flatten\n",
        "from sklearn.preprocessing import MinMaxScaler\n",
        "from sklearn.metrics import mean_squared_error\n",
        "#from keras.callbacks import EarlyStopping\n",
        "from keras.layers import ConvLSTM2D"
      ],
      "metadata": {
        "id": "Rk4898nPiq0m"
      },
      "execution_count": null,
      "outputs": []
    },
    {
      "cell_type": "code",
      "source": [
        "dataframe = read_csv('/content/good_machine_temperature_system_failure.csv',usecols=[0])\n",
        "plt.plot(dataframe)\n",
        "print(dataframe.head())"
      ],
      "metadata": {
        "colab": {
          "base_uri": "https://localhost:8080/"
        },
        "id": "33ahwcpciugB",
        "outputId": "1416673e-3420-47c3-bc57-f9a0ab352901"
      },
      "execution_count": null,
      "outputs": [
        {
          "output_type": "stream",
          "name": "stdout",
          "text": [
            "       value\n",
            "0  83.118039\n",
            "1  82.735869\n",
            "2  82.455751\n",
            "3  83.027583\n",
            "4  83.362356\n"
          ]
        },
        {
          "output_type": "display_data",
          "data": {
            "text/plain": [
              "<Figure size 432x288 with 1 Axes>"
            ],
            "image/png": "[encoded data removed]"
          },
          "metadata": {
            "needs_background": "light"
          }
        }
      ]
    },
    {
      "cell_type": "code",
      "source": [
        "#Convert pandas dataframe to numpy array\n",
        "dataset = dataframe.values\n",
        "dataset = dataset.astype('float32') #Convert values to float"
      ],
      "metadata": {
        "id": "wotXT4NIiyV_"
      },
      "execution_count": null,
      "outputs": []
    },
    {
      "cell_type": "code",
      "source": [
        "#LSTM uses sigmoid and tanh that are sensitive to magnitude so values need to be normalized\n",
        "# normalize the dataset\n",
        "scaler = MinMaxScaler(feature_range=(0, 1)) #Also try QuantileTransformer\n",
        "dataset = scaler.fit_transform(dataset)"
      ],
      "metadata": {
        "id": "JcNOIB_miqxR"
      },
      "execution_count": null,
      "outputs": []
    },
    {
      "cell_type": "code",
      "source": [
        "#We cannot use random way of splitting dataset into train and test as\n",
        "#the sequence of events is important for time series.\n",
        "#So let us take first 60% values for train and the remaining 1/3 for testing\n",
        "# split into train and test sets\n",
        "train_size = int(len(dataset) * 0.66)\n",
        "test_size = len(dataset) - train_size\n",
        "train, test = dataset[0:train_size,:], dataset[train_size:len(dataset),:]"
      ],
      "metadata": {
        "id": "kuBME932jBy1"
      },
      "execution_count": null,
      "outputs": []
    },
    {
      "cell_type": "code",
      "source": [
        "# We cannot fit the model like we normally do for image processing where we have\n",
        "#X and Y. We need to transform our data into something that looks like X and Y values.\n",
        "# This way it can be trained on a sequence rather than indvidual datapoints.\n",
        "# Let us convert into n number of columns for X where we feed sequence of numbers\n",
        "#then the final column as Y where we provide the next number in the sequence as output.\n",
        "# So let us convert an array of values into a dataset matrix\n",
        "\n",
        "#seq_size is the number of previous time steps to use as\n",
        "#input variables to predict the next time period.\n",
        "\n",
        "#creates a dataset where X is the number of passengers at a given time (t, t-1, t-2...)\n",
        "#and Y is the number of passengers at the next time (t + 1).\n",
        "\n",
        "def to_sequences(dataset, seq_size=1):\n",
        "    x = []\n",
        "    y = []\n",
        "\n",
        "    for i in range(len(dataset)-seq_size-1):\n",
        "        #print(i)\n",
        "        window = dataset[i:(i+seq_size), 0]\n",
        "        x.append(window)\n",
        "        y.append(dataset[i+seq_size, 0])\n",
        "\n",
        "    return np.array(x),np.array(y)"
      ],
      "metadata": {
        "id": "KMats-IWjIZ4"
      },
      "execution_count": null,
      "outputs": []
    },
    {
      "cell_type": "code",
      "source": [
        "seq_size = 10  # Number of time steps to look back\n",
        "#Larger sequences (look further back) may improve forecasting."
      ],
      "metadata": {
        "id": "h60-VNUXjSB8"
      },
      "execution_count": null,
      "outputs": []
    },
    {
      "cell_type": "code",
      "source": [
        "trainX, trainY = to_sequences(train, seq_size)\n",
        "testX, testY = to_sequences(test, seq_size)"
      ],
      "metadata": {
        "id": "Zs8wJqsTjWBa"
      },
      "execution_count": null,
      "outputs": []
    },
    {
      "cell_type": "code",
      "source": [
        "print(\"Shape of training set: {}\".format(trainX.shape))\n",
        "print(\"Shape of test set: {}\".format(testX.shape))"
      ],
      "metadata": {
        "colab": {
          "base_uri": "https://localhost:8080/"
        },
        "id": "T1AqbgLHjaQA",
        "outputId": "5a3d3fc6-a7bc-433e-f5ce-1490631955ca"
      },
      "execution_count": null,
      "outputs": [
        {
          "output_type": "stream",
          "name": "stdout",
          "text": [
            "Shape of training set: (9111, 10)\n",
            "Shape of test set: (4689, 10)\n"
          ]
        }
      ]
    },
    {
      "cell_type": "code",
      "source": [
        "#ConvLSTM\n",
        "#The layer expects input as a sequence of two-dimensional images,\n",
        "#therefore the shape of input data must be: [samples, timesteps, rows, columns, features]\n",
        "\n",
        "trainX = trainX.reshape((trainX.shape[0], 1, 1, 1, seq_size))\n",
        "testX = testX.reshape((testX.shape[0], 1, 1, 1, seq_size))\n",
        "\n",
        "model = Sequential()\n",
        "model.add(ConvLSTM2D(filters=64, kernel_size=(1,1), activation='relu', input_shape=(1, 1, 1, seq_size)))\n",
        "model.add(Flatten())\n",
        "model.add(Dense(32))\n",
        "model.add(Dense(1))\n",
        "model.compile(optimizer='adam', loss='mean_squared_error')\n",
        "model.summary()\n",
        "#print('Train...')"
      ],
      "metadata": {
        "colab": {
          "base_uri": "https://localhost:8080/"
        },
        "id": "RscBj-yBjd5p",
        "outputId": "7d4568e0-3dd7-46aa-d3c4-6c6af8b01c1d"
      },
      "execution_count": null,
      "outputs": [
        {
          "output_type": "stream",
          "name": "stdout",
          "text": [
            "Model: \"sequential_3\"\n",
            "_________________________________________________________________\n",
            " Layer (type)                Output Shape              Param #   \n",
            "=================================================================\n",
            " conv_lstm2d_3 (ConvLSTM2D)  (None, 1, 1, 64)          19200     \n",
            "                                                                 \n",
            " flatten_3 (Flatten)         (None, 64)                0         \n",
            "                                                                 \n",
            " dense_6 (Dense)             (None, 32)                2080      \n",
            "                                                                 \n",
            " dense_7 (Dense)             (None, 1)                 33        \n",
            "                                                                 \n",
            "=================================================================\n",
            "Total params: 21,313\n",
            "Trainable params: 21,313\n",
            "Non-trainable params: 0\n",
            "_________________________________________________________________\n"
          ]
        }
      ]
    },
    {
      "cell_type": "code",
      "source": [
        "model.fit(trainX, trainY, validation_data=(testX, testY),\n",
        "          verbose=2, epochs=20)"
      ],
      "metadata": {
        "colab": {
          "base_uri": "https://localhost:8080/"
        },
        "id": "XsAcgx2ljiIP",
        "outputId": "60ae2019-5129-4da8-8bd0-af755e665b55"
      },
      "execution_count": null,
      "outputs": [
        {
          "output_type": "stream",
          "name": "stdout",
          "text": [
            "Epoch 1/20\n",
            "285/285 - 5s - loss: 0.0168 - val_loss: 0.0038 - 5s/epoch - 18ms/step\n",
            "Epoch 2/20\n",
            "285/285 - 2s - loss: 0.0035 - val_loss: 0.0037 - 2s/epoch - 7ms/step\n",
            "Epoch 3/20\n",
            "285/285 - 2s - loss: 0.0035 - val_loss: 0.0037 - 2s/epoch - 7ms/step\n",
            "Epoch 4/20\n",
            "285/285 - 1s - loss: 0.0036 - val_loss: 0.0036 - 1s/epoch - 5ms/step\n",
            "Epoch 5/20\n",
            "285/285 - 1s - loss: 0.0034 - val_loss: 0.0036 - 1s/epoch - 4ms/step\n",
            "Epoch 6/20\n",
            "285/285 - 1s - loss: 0.0034 - val_loss: 0.0036 - 1s/epoch - 4ms/step\n",
            "Epoch 7/20\n",
            "285/285 - 1s - loss: 0.0034 - val_loss: 0.0037 - 1s/epoch - 4ms/step\n",
            "Epoch 8/20\n",
            "285/285 - 1s - loss: 0.0034 - val_loss: 0.0041 - 1s/epoch - 4ms/step\n",
            "Epoch 9/20\n",
            "285/285 - 1s - loss: 0.0034 - val_loss: 0.0035 - 1s/epoch - 4ms/step\n",
            "Epoch 10/20\n",
            "285/285 - 1s - loss: 0.0034 - val_loss: 0.0034 - 1s/epoch - 4ms/step\n",
            "Epoch 11/20\n",
            "285/285 - 1s - loss: 0.0033 - val_loss: 0.0037 - 1s/epoch - 4ms/step\n",
            "Epoch 12/20\n",
            "285/285 - 1s - loss: 0.0033 - val_loss: 0.0034 - 1s/epoch - 4ms/step\n",
            "Epoch 13/20\n",
            "285/285 - 1s - loss: 0.0034 - val_loss: 0.0035 - 1s/epoch - 4ms/step\n",
            "Epoch 14/20\n",
            "285/285 - 1s - loss: 0.0033 - val_loss: 0.0037 - 1s/epoch - 4ms/step\n",
            "Epoch 15/20\n",
            "285/285 - 1s - loss: 0.0033 - val_loss: 0.0034 - 1s/epoch - 4ms/step\n",
            "Epoch 16/20\n",
            "285/285 - 1s - loss: 0.0033 - val_loss: 0.0038 - 1s/epoch - 4ms/step\n",
            "Epoch 17/20\n",
            "285/285 - 1s - loss: 0.0033 - val_loss: 0.0035 - 1s/epoch - 4ms/step\n",
            "Epoch 18/20\n",
            "285/285 - 1s - loss: 0.0032 - val_loss: 0.0034 - 1s/epoch - 4ms/step\n",
            "Epoch 19/20\n",
            "285/285 - 1s - loss: 0.0032 - val_loss: 0.0035 - 1s/epoch - 4ms/step\n",
            "Epoch 20/20\n",
            "285/285 - 1s - loss: 0.0032 - val_loss: 0.0034 - 1s/epoch - 4ms/step\n"
          ]
        },
        {
          "output_type": "execute_result",
          "data": {
            "text/plain": [
              "<keras.callbacks.History at 0x7fef89168ed0>"
            ]
          },
          "metadata": {},
          "execution_count": 90
        }
      ]
    },
    {
      "cell_type": "code",
      "source": [
        "from google.colab import drive\n",
        "drive.mount('/content/drive')"
      ],
      "metadata": {
        "colab": {
          "base_uri": "https://localhost:8080/"
        },
        "id": "4qNBJdmftmBq",
        "outputId": "b55c49a5-5b05-4317-87b0-0436b7390ad3"
      },
      "execution_count": null,
      "outputs": [
        {
          "output_type": "stream",
          "name": "stdout",
          "text": [
            "Drive already mounted at /content/drive; to attempt to forcibly remount, call drive.mount(\"/content/drive\", force_remount=True).\n"
          ]
        }
      ]
    },
    {
      "cell_type": "code",
      "source": [
        "# make predictions\n",
        "\n",
        "trainPredict = model.predict(trainX)\n",
        "testPredict = model.predict(testX)"
      ],
      "metadata": {
        "colab": {
          "base_uri": "https://localhost:8080/"
        },
        "id": "sTvt1Qjpjmfg",
        "outputId": "b41ce574-5ea7-4cc8-bf18-46aec20f9467"
      },
      "execution_count": null,
      "outputs": [
        {
          "output_type": "stream",
          "name": "stdout",
          "text": [
            "285/285 [==============================] - 1s 2ms/step\n",
            "147/147 [==============================] - 0s 2ms/step\n"
          ]
        }
      ]
    },
    {
      "cell_type": "code",
      "source": [
        "# invert predictions back to prescaled values\n",
        "#This is to compare with original input values\n",
        "#SInce we used minmaxscaler we can now use scaler.inverse_transform\n",
        "#to invert the transformation.\n",
        "trainPredict = scaler.inverse_transform(trainPredict)\n",
        "trainY = scaler.inverse_transform([trainY])\n",
        "testPredict = scaler.inverse_transform(testPredict)\n",
        "testY = scaler.inverse_transform([testY])"
      ],
      "metadata": {
        "id": "mVZuNDVkjr3i"
      },
      "execution_count": null,
      "outputs": []
    },
    {
      "cell_type": "code",
      "source": [
        "# calculate root mean squared error\n",
        "trainScore = math.sqrt(mean_squared_error(trainY[0], trainPredict[:,0]))\n",
        "print('Train Score: %.2f RMSE' % (trainScore))"
      ],
      "metadata": {
        "colab": {
          "base_uri": "https://localhost:8080/"
        },
        "id": "6hbb8xssjv_G",
        "outputId": "6f8530a4-a74f-443f-f589-b1301f0b341d"
      },
      "execution_count": null,
      "outputs": [
        {
          "output_type": "stream",
          "name": "stdout",
          "text": [
            "Train Score: 0.84 RMSE\n"
          ]
        }
      ]
    },
    {
      "cell_type": "code",
      "source": [
        "testScore = math.sqrt(mean_squared_error(testY[0], testPredict[:,0]))\n",
        "print('Test Score: %.2f RMSE' % (testScore))"
      ],
      "metadata": {
        "colab": {
          "base_uri": "https://localhost:8080/"
        },
        "id": "J2OKPkCYj3Te",
        "outputId": "7c5a46ae-07e7-420b-e65d-62bfd2d3e7dd"
      },
      "execution_count": null,
      "outputs": [
        {
          "output_type": "stream",
          "name": "stdout",
          "text": [
            "Test Score: 0.87 RMSE\n"
          ]
        }
      ]
    },
    {
      "cell_type": "code",
      "source": [
        "# shift train predictions for plotting\n",
        "#we must shift the predictions so that they align on the x-axis with the original dataset.\n",
        "trainPredictPlot = np.empty_like(dataset)\n",
        "trainPredictPlot[:, :] = np.nan\n",
        "trainPredictPlot[seq_size:len(trainPredict)+seq_size, :] = trainPredict"
      ],
      "metadata": {
        "id": "svAxurYBj4Pe"
      },
      "execution_count": null,
      "outputs": []
    },
    {
      "cell_type": "code",
      "source": [
        "# shift test predictions for plotting\n",
        "testPredictPlot = np.empty_like(dataset)\n",
        "testPredictPlot[:, :] = np.nan\n",
        "testPredictPlot[len(trainPredict)+(seq_size*2)+1:len(dataset)-1, :] = testPredict"
      ],
      "metadata": {
        "id": "JOzaIK9Wj8eA"
      },
      "execution_count": null,
      "outputs": []
    },
    {
      "cell_type": "code",
      "source": [
        "# plot baseline and predictions\n",
        "plt.plot(scaler.inverse_transform(dataset))\n",
        "plt.plot(trainPredictPlot)\n",
        "plt.plot(testPredictPlot)\n",
        "plt.show()"
      ],
      "metadata": {
        "colab": {
          "base_uri": "https://localhost:8080/"
        },
        "id": "rwC6Z_NJkAxQ",
        "outputId": "674652de-3367-4c58-878b-48d38d67674a"
      },
      "execution_count": null,
      "outputs": [
        {
          "output_type": "display_data",
          "data": {
            "text/plain": [
              "<Figure size 432x288 with 1 Axes>"
            ],
            "image/png": "[encoded data removed]"
          },
          "metadata": {
            "needs_background": "light"
          }
        }
      ]
    },
    {
      "cell_type": "code",
      "source": [
        "dataframe = read_csv('/content/noisy_machine_temperature_system_failure.csv',usecols=[0])\n",
        "plt.plot(dataframe)\n",
        "print(dataframe.head())\n",
        "\n",
        "#Convert pandas dataframe to numpy array\n",
        "dataset = dataframe.values\n",
        "dataset = dataset.astype('float32') #COnvert values to float"
      ],
      "metadata": {
        "colab": {
          "base_uri": "https://localhost:8080/"
        },
        "id": "LhpiTyPKlTxC",
        "outputId": "3879da89-09db-48f5-b6cb-95c9d9bc141a"
      },
      "execution_count": null,
      "outputs": [
        {
          "output_type": "stream",
          "name": "stdout",
          "text": [
            "       values\n",
            "0  100.188373\n",
            "1  100.009460\n",
            "2   98.538060\n",
            "3   99.016574\n",
            "4   98.315790\n"
          ]
        },
        {
          "output_type": "display_data",
          "data": {
            "text/plain": [
              "<Figure size 432x288 with 1 Axes>"
            ],
            "image/png": "[encoded data removed]"
          },
          "metadata": {
            "needs_background": "light"
          }
        }
      ]
    },
    {
      "cell_type": "code",
      "source": [
        "#LSTM uses sigmoid and tanh that are sensitive to magnitude so values need to be normalized\n",
        "# normalize the dataset\n",
        "scaler = MinMaxScaler(feature_range=(0, 1)) #Also try QuantileTransformer\n",
        "dataset = scaler.fit_transform(dataset)\n",
        "\n",
        "seq_size = 10  # Number of time steps to look back\n",
        "\n",
        "btest_size = int(len(dataset))\n",
        "btest = dataset[0:btest_size,:]\n",
        "btestX, btestY = to_sequences(btest, seq_size)\n",
        "\n",
        "print(\"Shape of test set: {}\".format(btestX.shape))\n"
      ],
      "metadata": {
        "colab": {
          "base_uri": "https://localhost:8080/"
        },
        "id": "TjH16H_JlMAY",
        "outputId": "e7d5fe03-3f64-4fdf-9577-08121dc6dc20"
      },
      "execution_count": null,
      "outputs": [
        {
          "output_type": "stream",
          "name": "stdout",
          "text": [
            "Shape of test set: (2685, 10)\n"
          ]
        }
      ]
    },
    {
      "cell_type": "code",
      "source": [
        "btestX = btestX.reshape((btestX.shape[0], 1, 1, 1, seq_size))\n"
      ],
      "metadata": {
        "id": "AZmVg0Kvncrq"
      },
      "execution_count": null,
      "outputs": []
    },
    {
      "cell_type": "code",
      "source": [
        "btestPredict = model.predict(btestX)"
      ],
      "metadata": {
        "colab": {
          "base_uri": "https://localhost:8080/"
        },
        "id": "3wIZgOegnzsI",
        "outputId": "cfd1ee8a-51c0-4148-cc23-afd1d0870459"
      },
      "execution_count": null,
      "outputs": [
        {
          "output_type": "stream",
          "name": "stdout",
          "text": [
            "84/84 [==============================] - 0s 2ms/step\n"
          ]
        }
      ]
    },
    {
      "cell_type": "code",
      "source": [
        "# invert predictions back to prescaled values\n",
        "#This is to compare with original input values\n",
        "#SInce we used minmaxscaler we can now use scaler.inverse_transform\n",
        "#to invert the transformation.\n",
        "btestPredict = scaler.inverse_transform(btestPredict)\n",
        "btestY = scaler.inverse_transform([btestY])"
      ],
      "metadata": {
        "id": "7oQablaCoEqB"
      },
      "execution_count": null,
      "outputs": []
    },
    {
      "cell_type": "code",
      "source": [
        "btestScore = math.sqrt(mean_squared_error(btestY[0], btestPredict[:,0]))\n",
        "print('Test Score: %.2f RMSE' % (btestScore))"
      ],
      "metadata": {
        "colab": {
          "base_uri": "https://localhost:8080/"
        },
        "id": "4ue3p5-4oPmR",
        "outputId": "58dbf0a2-c782-48af-cb92-10f8ffaa0fe6"
      },
      "execution_count": null,
      "outputs": [
        {
          "output_type": "stream",
          "name": "stdout",
          "text": [
            "Test Score: 0.95 RMSE\n"
          ]
        }
      ]
    }
  ]
}