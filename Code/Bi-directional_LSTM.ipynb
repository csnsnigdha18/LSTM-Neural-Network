{
  "cells": [
    {
      "cell_type": "markdown",
      "metadata": {
        "id": "view-in-github",
        "colab_type": "text"
      },
      "source": [
        "<a href=\"https://colab.research.google.com/github/csnsnigdha18/Time-Series-Forecasting-and-Point-Anomaly-Detection-of-Sensor-Signals-Using-LSTM-Neural-Network-Arch/blob/main/Code/Bi-directional_LSTM.ipynb\" target=\"_parent\"><img src=\"https://colab.research.google.com/assets/colab-badge.svg\" alt=\"Open In Colab\"/></a>"
      ]
    },
    {
      "cell_type": "code",
      "execution_count": null,
      "metadata": {
        "id": "XPzakyIoZAKO"
      },
      "outputs": [],
      "source": [
        "import numpy as np\n",
        "import matplotlib.pyplot as plt\n",
        "from pandas import read_csv\n",
        "import math\n",
        "\n",
        "from keras.models import Sequential\n",
        "from keras.layers import Dense, SimpleRNN, LSTM,Flatten\n",
        "from sklearn.preprocessing import MinMaxScaler\n",
        "from sklearn.metrics import mean_squared_error\n",
        "from keras.layers import ConvLSTM2D"
      ]
    },
    {
      "cell_type": "code",
      "execution_count": null,
      "metadata": {
        "colab": {
          "base_uri": "https://localhost:8080/",
          "height": 282
        },
        "id": "YWvU3J8LZfCL",
        "outputId": "e9f931d0-ec41-4e48-c396-853c40520909"
      },
      "outputs": [
        {
          "output_type": "execute_result",
          "data": {
            "text/plain": [
              "[<matplotlib.lines.Line2D at 0x7f22593ea610>]"
            ]
          },
          "metadata": {},
          "execution_count": 13
        },
        {
          "output_type": "display_data",
          "data": {
            "text/plain": [
              "<Figure size 432x288 with 1 Axes>"
            ],
            "image/png": "[encoded data removed]"
          },
          "metadata": {
            "needs_background": "light"
          }
        }
      ],
      "source": [
        "# load the dataset\n",
        "dataframe = read_csv('/content/good_machine_temperature_system_failure.csv', usecols=[0])\n",
        "plt.plot(dataframe)\n"
      ]
    },
    {
      "cell_type": "code",
      "execution_count": null,
      "metadata": {
        "id": "HAD1uNRvZuC6"
      },
      "outputs": [],
      "source": [
        "#Convert pandas dataframe to numpy array\n",
        "dataset = dataframe.values\n",
        "dataset = dataset.astype('float32') #COnvert values to float\n",
        "\n",
        "# Normalization is optional but recommended for neural network as certain\n",
        "# activation functions are sensitive to magnitude of numbers.\n",
        "# normalize the dataset\n",
        "scaler = MinMaxScaler(feature_range=(0, 1)) #Also try QuantileTransformer\n",
        "dataset = scaler.fit_transform(dataset)\n",
        "\n",
        "#We cannot use random way of splitting dataset into train and test as\n",
        "#the sequence of events is important for time series.\n",
        "#So let us take first 60% values for train and the remaining 1/3 for testing\n",
        "# split into train and test sets\n",
        "train_size = int(len(dataset) * 0.66)\n",
        "gtest_size = len(dataset) - train_size\n",
        "train, gtest = dataset[0:train_size,:], dataset[train_size:len(dataset),:]"
      ]
    },
    {
      "cell_type": "code",
      "execution_count": null,
      "metadata": {
        "colab": {
          "base_uri": "https://localhost:8080/"
        },
        "id": "zdT3srj7aPRF",
        "outputId": "88a46f15-708c-4231-ed59-9c3263b73560"
      },
      "outputs": [
        {
          "output_type": "stream",
          "name": "stdout",
          "text": [
            "Total number of samples in the original training data =  9122\n",
            "Total number of samples in the generated data =  9112\n"
          ]
        }
      ],
      "source": [
        "from keras.preprocessing.sequence import TimeseriesGenerator # Generates batches for sequence data\n",
        "seq_size = length =  10\n",
        "batch_size = 1\n",
        "train_generator = TimeseriesGenerator(train,train,length=length,batch_size=batch_size)\n",
        "print(\"Total number of samples in the original training data = \", len(train)) # 95\n",
        "print(\"Total number of samples in the generated data = \", len(train_generator)) # 55"
      ]
    },
    {
      "cell_type": "code",
      "execution_count": null,
      "metadata": {
        "id": "GvKMNYQuabBa"
      },
      "outputs": [],
      "source": [
        "x, y = train_generator[0]\n",
        "validation_generator = TimeseriesGenerator(gtest, gtest, length=length ,batch_size=batch_size)\n"
      ]
    },
    {
      "cell_type": "code",
      "execution_count": null,
      "metadata": {
        "id": "UWRrXYuTatRK"
      },
      "outputs": [],
      "source": [
        "num_features = 1"
      ]
    },
    {
      "cell_type": "code",
      "execution_count": null,
      "metadata": {
        "id": "s_SIf1Yd8c0a"
      },
      "outputs": [],
      "source": [
        "#ConvLSTM\n",
        "\n",
        "#train_generator = train_generator.reshape((train_generator.shape[0], 1, 1, 1, seq_size))\n",
        "#validation_generator = validation_generator.reshape((validation_generator.shape[0], 1, 1, 1, seq_size))\n",
        "\n",
        "\n",
        "#The layer expects input as a sequence of two-dimensional images,\n",
        "#therefore the shape of input data must be: [samples, timesteps, rows, columns, features]\n",
        "#model = Sequential()\n",
        "#model.add(ConvLSTM2D(filters=64, kernel_size=(1,1), activation='relu', input_shape=(1,1,1, seq_size#)))\n",
        "#model.add(Flatten())\n",
        "#model.add(Dense(32))\n",
        "#model.add(Dense(1))\n",
        "#model.compile(optimizer='adam', loss='mean_squared_error')\n",
        "#model.summary()"
      ]
    },
    {
      "cell_type": "code",
      "execution_count": null,
      "metadata": {
        "id": "wLWbgtPVa2Ii"
      },
      "outputs": [],
      "source": [
        "model = Sequential()\n",
        "model.add(LSTM(50, activation='relu', return_sequences=True, input_shape=(length, num_features)))\n",
        "model.add(LSTM(50, activation='relu'))\n",
        "model.add(Dense(32))\n",
        "model.add(Dense(1))\n",
        "model.compile(optimizer='adam', loss='mean_squared_error')\n",
        "\n",
        "#model.summary()\n",
        "#print('Train...')"
      ]
    },
    {
      "cell_type": "code",
      "execution_count": null,
      "metadata": {
        "colab": {
          "base_uri": "https://localhost:8080/"
        },
        "id": "uV9mK535a-za",
        "outputId": "ed652974-23f9-4020-acce-56c288f65a45"
      },
      "outputs": [
        {
          "output_type": "stream",
          "name": "stdout",
          "text": [
            "Epoch 1/10\n"
          ]
        },
        {
          "output_type": "stream",
          "name": "stderr",
          "text": [
            "/usr/local/lib/python3.7/dist-packages/ipykernel_launcher.py:1: UserWarning: `Model.fit_generator` is deprecated and will be removed in a future version. Please use `Model.fit`, which supports generators.\n",
            "  \"\"\"Entry point for launching an IPython kernel.\n"
          ]
        },
        {
          "output_type": "stream",
          "name": "stdout",
          "text": [
            "9112/9112 - 95s - loss: 0.0055 - val_loss: 0.0035 - 95s/epoch - 10ms/step\n",
            "Epoch 2/10\n",
            "9112/9112 - 87s - loss: 0.0042 - val_loss: 0.0044 - 87s/epoch - 10ms/step\n",
            "Epoch 3/10\n",
            "9112/9112 - 95s - loss: 0.0040 - val_loss: 0.0035 - 95s/epoch - 10ms/step\n",
            "Epoch 4/10\n",
            "9112/9112 - 95s - loss: 0.0038 - val_loss: 0.0034 - 95s/epoch - 10ms/step\n",
            "Epoch 5/10\n",
            "9112/9112 - 85s - loss: 0.0037 - val_loss: 0.0040 - 85s/epoch - 9ms/step\n",
            "Epoch 6/10\n",
            "9112/9112 - 86s - loss: 0.0036 - val_loss: 0.0039 - 86s/epoch - 9ms/step\n",
            "Epoch 7/10\n",
            "9112/9112 - 85s - loss: 0.0036 - val_loss: 0.0038 - 85s/epoch - 9ms/step\n",
            "Epoch 8/10\n",
            "9112/9112 - 95s - loss: 0.0035 - val_loss: 0.0036 - 95s/epoch - 10ms/step\n",
            "Epoch 9/10\n",
            "9112/9112 - 83s - loss: 0.0035 - val_loss: 0.0033 - 83s/epoch - 9ms/step\n",
            "Epoch 10/10\n",
            "9112/9112 - 98s - loss: 0.0034 - val_loss: 0.0033 - 98s/epoch - 11ms/step\n",
            "9112/9112 [==============================] - 26s 3ms/step\n",
            "4690/4690 [==============================] - 13s 3ms/step\n",
            "Train Score: 0.83 RMSE\n",
            "Test Score: 0.86 RMSE\n"
          ]
        }
      ],
      "source": [
        "model.fit_generator(generator=train_generator, verbose=2, epochs=10, validation_data=validation_generator)\n",
        "trainPredict = model.predict(train_generator)\n",
        "gtestPredict = model.predict(validation_generator)\n",
        "\n",
        "trainPredict = scaler.inverse_transform(trainPredict)\n",
        "trainY_inverse = scaler.inverse_transform(train)\n",
        "gtestPredict = scaler.inverse_transform(gtestPredict)\n",
        "gtestY_inverse = scaler.inverse_transform(gtest)\n",
        "trainScore = math.sqrt(mean_squared_error(trainY_inverse[length:], trainPredict[:,0]))\n",
        "print('Train Score: %.2f RMSE' % (trainScore))\n",
        "\n",
        "gtestScore = math.sqrt(mean_squared_error(gtestY_inverse[length:], gtestPredict[:,0]))\n",
        "print('Test Score: %.2f RMSE' % (gtestScore))"
      ]
    },
    {
      "cell_type": "code",
      "execution_count": null,
      "metadata": {
        "id": "H8o4Gt2xHYmz",
        "colab": {
          "base_uri": "https://localhost:8080/"
        },
        "outputId": "5f39a839-9e25-49fc-e9c5-3d23bd6e20aa"
      },
      "outputs": [
        {
          "output_type": "display_data",
          "data": {
            "text/plain": [
              "<Figure size 432x288 with 1 Axes>"
            ],
            "image/png": "[encoded data removed]"
          },
          "metadata": {
            "needs_background": "light"
          }
        }
      ],
      "source": [
        "dataframe = read_csv('/content/noisy_machine_temperature_system_failure.csv', usecols=[0])\n",
        "plt.plot(dataframe)\n",
        "dataset = dataframe.values\n",
        "dataset = dataset.astype('float32') #COnvert values to float\n",
        "\n",
        "# Normalization is optional but recommended for neural network as certain\n",
        "# activation functions are sensitive to magnitude of numbers.\n",
        "# normalize the dataset\n",
        "scaler = MinMaxScaler(feature_range=(0, 1)) #Also try QuantileTransformer\n",
        "dataset = scaler.fit_transform(dataset)\n",
        "btest_size = int(len(dataset))\n",
        "btest = dataset[0:btest_size,:]"
      ]
    },
    {
      "cell_type": "code",
      "execution_count": null,
      "metadata": {
        "id": "jAT46vsIrnsX",
        "colab": {
          "base_uri": "https://localhost:8080/"
        },
        "outputId": "ffc5f877-e505-493b-8605-32f08a352b99"
      },
      "outputs": [
        {
          "output_type": "stream",
          "name": "stderr",
          "text": [
            "WARNING:tensorflow:Model was constructed with shape (None, 10, 1) for input KerasTensor(type_spec=TensorSpec(shape=(None, 10, 1), dtype=tf.float32, name='lstm_2_input'), name='lstm_2_input', description=\"created by layer 'lstm_2_input'\"), but it was called on an input with incompatible shape (None, 1, 1).\n"
          ]
        },
        {
          "output_type": "stream",
          "name": "stdout",
          "text": [
            "(2696, 1)\n",
            "85/85 [==============================] - 0s 2ms/step\n",
            "(2696, 1)\n",
            "(2696, 1)\n",
            "(2696, 1)\n",
            "Test Score: 92.19 RMSE\n"
          ]
        }
      ],
      "source": [
        "print(btest.shape)\n",
        "btestPredict = model.predict(btest)\n",
        "print(btestPredict .shape)\n",
        "btestPredict = scaler.inverse_transform(btestPredict)\n",
        "print(btestPredict .shape)\n",
        "btestY_inverse = scaler.inverse_transform(btest)\n",
        "print(btestY_inverse.shape)\n",
        "btestScore = math.sqrt(mean_squared_error(btestPredict,btest))\n",
        "print('Test Score: %.2f RMSE' % (btestScore))"
      ]
    }
  ],
  "metadata": {
    "colab": {
      "provenance": [],
      "include_colab_link": true
    },
    "kernelspec": {
      "display_name": "Python 3",
      "name": "python3"
    },
    "language_info": {
      "name": "python"
    }
  },
  "nbformat": 4,
  "nbformat_minor": 0
}