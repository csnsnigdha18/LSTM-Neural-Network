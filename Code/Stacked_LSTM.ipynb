{
  "cells": [
    {
      "cell_type": "markdown",
      "metadata": {
        "id": "view-in-github",
        "colab_type": "text"
      },
      "source": [
        "<a href=\"https://colab.research.google.com/github/csnsnigdha18/Time-Series-Forecasting-and-Point-Anomaly-Detection-of-Sensor-Signals-Using-LSTM-Neural-Network-Arch/blob/main/S_LSTM.ipynb\" target=\"_parent\"><img src=\"https://colab.research.google.com/assets/colab-badge.svg\" alt=\"Open In Colab\"/></a>"
      ]
    },
    {
      "cell_type": "code",
      "execution_count": null,
      "metadata": {
        "id": "XPzakyIoZAKO"
      },
      "outputs": [],
      "source": [
        "import numpy as np\n",
        "import matplotlib.pyplot as plt\n",
        "from pandas import read_csv\n",
        "import math\n",
        "\n",
        "from keras.models import Sequential\n",
        "from keras.layers import Dense, SimpleRNN, LSTM,Flatten\n",
        "from sklearn.preprocessing import MinMaxScaler\n",
        "from sklearn.metrics import mean_squared_error\n",
        "from keras.layers import ConvLSTM2D"
      ]
    },
    {
      "cell_type": "code",
      "execution_count": null,
      "metadata": {
        "colab": {
          "base_uri": "https://localhost:8080/",
          "height": 282
        },
        "id": "YWvU3J8LZfCL",
        "outputId": "dd14c4df-f2f1-4b59-eadd-00bdfa76a60a"
      },
      "outputs": [
        {
          "data": {
            "text/plain": [
              "[<matplotlib.lines.Line2D at 0x7fb3fb7cc2d0>]"
            ]
          },
          "execution_count": 10,
          "metadata": {},
          "output_type": "execute_result"
        },
        {
          "data": {
            "image/png": "[encoded data removed]",
            "text/plain": [
              "<Figure size 432x288 with 1 Axes>"
            ]
          },
          "metadata": {},
          "output_type": "display_data"
        }
      ],
      "source": [
        "# load the dataset\n",
        "dataframe = read_csv('/content/good_ambient_temperature_system_failure.csv', usecols=[0])\n",
        "plt.plot(dataframe)\n"
      ]
    },
    {
      "cell_type": "code",
      "execution_count": null,
      "metadata": {
        "id": "HAD1uNRvZuC6"
      },
      "outputs": [],
      "source": [
        "#Convert pandas dataframe to numpy array\n",
        "dataset = dataframe.values\n",
        "dataset = dataset.astype('float32') #COnvert values to float\n",
        "\n",
        "# Normalization is optional but recommended for neural network as certain\n",
        "# activation functions are sensitive to magnitude of numbers.\n",
        "# normalize the dataset\n",
        "scaler = MinMaxScaler(feature_range=(0, 1)) #Also try QuantileTransformer\n",
        "dataset = scaler.fit_transform(dataset)\n",
        "\n",
        "#We cannot use random way of splitting dataset into train and test as\n",
        "#the sequence of events is important for time series.\n",
        "#So let us take first 60% values for train and the remaining 1/3 for testing\n",
        "# split into train and test sets\n",
        "train_size = int(len(dataset) * 0.66)\n",
        "gtest_size = len(dataset) - train_size\n",
        "train, gtest = dataset[0:train_size,:], dataset[train_size:len(dataset),:]"
      ]
    },
    {
      "cell_type": "code",
      "execution_count": null,
      "metadata": {
        "colab": {
          "base_uri": "https://localhost:8080/"
        },
        "id": "zdT3srj7aPRF",
        "outputId": "91930cb5-efd1-41f4-a78f-c8f9cfe47d21"
      },
      "outputs": [
        {
          "name": "stdout",
          "output_type": "stream",
          "text": [
            "Total number of samples in the original training data =  3402\n",
            "Total number of samples in the generated data =  3392\n"
          ]
        }
      ],
      "source": [
        "from keras.preprocessing.sequence import TimeseriesGenerator # Generates batches for sequence data\n",
        "seq_size = length =  10\n",
        "batch_size = 1\n",
        "train_generator = TimeseriesGenerator(train,train,length=length,batch_size=batch_size)\n",
        "print(\"Total number of samples in the original training data = \", len(train)) # 95\n",
        "print(\"Total number of samples in the generated data = \", len(train_generator)) # 55"
      ]
    },
    {
      "cell_type": "code",
      "execution_count": null,
      "metadata": {
        "id": "GvKMNYQuabBa"
      },
      "outputs": [],
      "source": [
        "x, y = train_generator[0]\n",
        "validation_generator = TimeseriesGenerator(gtest, gtest, length=length ,batch_size=batch_size)\n"
      ]
    },
    {
      "cell_type": "code",
      "execution_count": null,
      "metadata": {
        "id": "UWRrXYuTatRK"
      },
      "outputs": [],
      "source": [
        "num_features = 1"
      ]
    },
    {
      "cell_type": "code",
      "execution_count": null,
      "metadata": {
        "id": "s_SIf1Yd8c0a"
      },
      "outputs": [],
      "source": [
        "#ConvLSTM\n",
        "\n",
        "#train_generator = train_generator.reshape((train_generator.shape[0], 1, 1, 1, seq_size))\n",
        "#validation_generator = validation_generator.reshape((validation_generator.shape[0], 1, 1, 1, seq_size))\n",
        "\n",
        "\n",
        "#The layer expects input as a sequence of two-dimensional images,\n",
        "#therefore the shape of input data must be: [samples, timesteps, rows, columns, features]\n",
        "#model = Sequential()\n",
        "#model.add(ConvLSTM2D(filters=64, kernel_size=(1,1), activation='relu', input_shape=(1,1,1, seq_size#)))\n",
        "#model.add(Flatten())\n",
        "#model.add(Dense(32))\n",
        "#model.add(Dense(1))\n",
        "#model.compile(optimizer='adam', loss='mean_squared_error')\n",
        "#model.summary()"
      ]
    },
    {
      "cell_type": "code",
      "execution_count": null,
      "metadata": {
        "id": "wLWbgtPVa2Ii"
      },
      "outputs": [],
      "source": [
        "model = Sequential()\n",
        "model.add(LSTM(30, activation='relu', return_sequences=True, input_shape=(length, num_features)))\n",
        "model.add(LSTM(30, return_sequences=True))\n",
        "model.add(LSTM(30, activation='relu'))\n",
        "model.add(Dense(1))\n",
        "model.compile(optimizer='adam', loss='mean_squared_error')\n",
        "\n",
        "#model.summary()\n",
        "#print('Train...')"
      ]
    },
    {
      "cell_type": "code",
      "execution_count": null,
      "metadata": {
        "colab": {
          "background_save": true,
          "base_uri": "https://localhost:8080/"
        },
        "id": "uV9mK535a-za",
        "outputId": "b8c1ba8f-0f3e-49cf-ae16-e482aaffc5ac"
      },
      "outputs": [
        {
          "name": "stdout",
          "output_type": "stream",
          "text": [
            "Epoch 1/100\n"
          ]
        },
        {
          "name": "stderr",
          "output_type": "stream",
          "text": [
            "/usr/local/lib/python3.7/dist-packages/ipykernel_launcher.py:1: UserWarning: `Model.fit_generator` is deprecated and will be removed in a future version. Please use `Model.fit`, which supports generators.\n",
            "  \"\"\"Entry point for launching an IPython kernel.\n"
          ]
        },
        {
          "name": "stdout",
          "output_type": "stream",
          "text": [
            "3392/3392 - 67s - loss: 0.0162 - val_loss: 0.0090 - 67s/epoch - 20ms/step\n",
            "Epoch 2/100\n",
            "3392/3392 - 58s - loss: 0.0082 - val_loss: 0.0135 - 58s/epoch - 17ms/step\n",
            "Epoch 3/100\n",
            "3392/3392 - 56s - loss: 0.0076 - val_loss: 0.0100 - 56s/epoch - 16ms/step\n",
            "Epoch 4/100\n",
            "3392/3392 - 56s - loss: 0.0077 - val_loss: 0.0094 - 56s/epoch - 17ms/step\n",
            "Epoch 5/100\n",
            "3392/3392 - 56s - loss: 0.0074 - val_loss: 0.0083 - 56s/epoch - 17ms/step\n",
            "Epoch 6/100\n",
            "3392/3392 - 57s - loss: 0.0071 - val_loss: 0.0125 - 57s/epoch - 17ms/step\n",
            "Epoch 7/100\n",
            "3392/3392 - 57s - loss: 0.0072 - val_loss: 0.0084 - 57s/epoch - 17ms/step\n",
            "Epoch 8/100\n",
            "3392/3392 - 56s - loss: 0.0071 - val_loss: 0.0083 - 56s/epoch - 17ms/step\n",
            "Epoch 9/100\n",
            "3392/3392 - 57s - loss: 0.0070 - val_loss: 0.0082 - 57s/epoch - 17ms/step\n",
            "Epoch 10/100\n",
            "3392/3392 - 56s - loss: 0.0070 - val_loss: 0.0090 - 56s/epoch - 16ms/step\n",
            "Epoch 11/100\n",
            "3392/3392 - 56s - loss: 0.0069 - val_loss: 0.0087 - 56s/epoch - 16ms/step\n",
            "Epoch 12/100\n",
            "3392/3392 - 61s - loss: 0.0069 - val_loss: 0.0103 - 61s/epoch - 18ms/step\n",
            "Epoch 13/100\n",
            "3392/3392 - 55s - loss: 0.0069 - val_loss: 0.0100 - 55s/epoch - 16ms/step\n",
            "Epoch 14/100\n",
            "3392/3392 - 56s - loss: 0.0069 - val_loss: 0.0096 - 56s/epoch - 16ms/step\n",
            "Epoch 15/100\n",
            "3392/3392 - 56s - loss: 0.0067 - val_loss: 0.0088 - 56s/epoch - 16ms/step\n",
            "Epoch 16/100\n",
            "3392/3392 - 57s - loss: 0.0067 - val_loss: 0.0080 - 57s/epoch - 17ms/step\n",
            "Epoch 17/100\n",
            "3392/3392 - 55s - loss: 0.0068 - val_loss: 0.0089 - 55s/epoch - 16ms/step\n",
            "Epoch 18/100\n",
            "3392/3392 - 55s - loss: 0.0068 - val_loss: 0.0106 - 55s/epoch - 16ms/step\n",
            "Epoch 19/100\n",
            "3392/3392 - 55s - loss: 0.0066 - val_loss: 0.0084 - 55s/epoch - 16ms/step\n",
            "Epoch 20/100\n",
            "3392/3392 - 60s - loss: 0.0067 - val_loss: 0.0082 - 60s/epoch - 18ms/step\n",
            "Epoch 21/100\n",
            "3392/3392 - 56s - loss: 0.0066 - val_loss: 0.0084 - 56s/epoch - 16ms/step\n",
            "Epoch 22/100\n",
            "3392/3392 - 55s - loss: 0.0066 - val_loss: 0.0089 - 55s/epoch - 16ms/step\n",
            "Epoch 23/100\n",
            "3392/3392 - 55s - loss: 0.0065 - val_loss: 0.0108 - 55s/epoch - 16ms/step\n",
            "Epoch 24/100\n",
            "3392/3392 - 56s - loss: 0.0066 - val_loss: 0.0083 - 56s/epoch - 16ms/step\n",
            "Epoch 25/100\n",
            "3392/3392 - 61s - loss: 0.0065 - val_loss: 0.0085 - 61s/epoch - 18ms/step\n",
            "Epoch 26/100\n",
            "3392/3392 - 55s - loss: 0.0064 - val_loss: 0.0098 - 55s/epoch - 16ms/step\n",
            "Epoch 27/100\n",
            "3392/3392 - 55s - loss: 0.0065 - val_loss: 0.0087 - 55s/epoch - 16ms/step\n",
            "Epoch 28/100\n",
            "3392/3392 - 56s - loss: 0.0065 - val_loss: 0.0098 - 56s/epoch - 17ms/step\n",
            "Epoch 29/100\n",
            "3392/3392 - 56s - loss: 0.0064 - val_loss: 0.0081 - 56s/epoch - 17ms/step\n",
            "Epoch 30/100\n",
            "3392/3392 - 58s - loss: 0.0064 - val_loss: 0.0085 - 58s/epoch - 17ms/step\n",
            "Epoch 31/100\n",
            "3392/3392 - 56s - loss: 0.0063 - val_loss: 0.0081 - 56s/epoch - 17ms/step\n",
            "Epoch 32/100\n",
            "3392/3392 - 60s - loss: 0.0063 - val_loss: 0.0083 - 60s/epoch - 18ms/step\n",
            "Epoch 33/100\n",
            "3392/3392 - 60s - loss: 0.0063 - val_loss: 0.0087 - 60s/epoch - 18ms/step\n",
            "Epoch 34/100\n",
            "3392/3392 - 57s - loss: 0.0063 - val_loss: 0.0086 - 57s/epoch - 17ms/step\n",
            "Epoch 35/100\n",
            "3392/3392 - 56s - loss: 0.0063 - val_loss: 0.0094 - 56s/epoch - 17ms/step\n",
            "Epoch 36/100\n",
            "3392/3392 - 56s - loss: 0.0062 - val_loss: 0.0105 - 56s/epoch - 16ms/step\n",
            "Epoch 37/100\n",
            "3392/3392 - 59s - loss: 0.0063 - val_loss: 0.0081 - 59s/epoch - 17ms/step\n",
            "Epoch 38/100\n",
            "3392/3392 - 57s - loss: 0.0062 - val_loss: 0.0085 - 57s/epoch - 17ms/step\n",
            "Epoch 39/100\n",
            "3392/3392 - 59s - loss: 0.0063 - val_loss: 0.0085 - 59s/epoch - 18ms/step\n",
            "Epoch 40/100\n",
            "3392/3392 - 56s - loss: 0.0062 - val_loss: 0.0088 - 56s/epoch - 17ms/step\n",
            "Epoch 41/100\n",
            "3392/3392 - 56s - loss: 0.0062 - val_loss: 0.0083 - 56s/epoch - 16ms/step\n",
            "Epoch 42/100\n",
            "3392/3392 - 56s - loss: 0.0061 - val_loss: 0.0085 - 56s/epoch - 16ms/step\n",
            "Epoch 43/100\n",
            "3392/3392 - 56s - loss: 0.0061 - val_loss: 0.0083 - 56s/epoch - 17ms/step\n",
            "Epoch 44/100\n",
            "3392/3392 - 56s - loss: 0.0062 - val_loss: 0.0083 - 56s/epoch - 16ms/step\n",
            "Epoch 45/100\n",
            "3392/3392 - 56s - loss: 0.0062 - val_loss: 0.0086 - 56s/epoch - 16ms/step\n",
            "Epoch 46/100\n",
            "3392/3392 - 56s - loss: 0.0062 - val_loss: 0.0092 - 56s/epoch - 16ms/step\n",
            "Epoch 47/100\n",
            "3392/3392 - 57s - loss: 0.0062 - val_loss: 0.0087 - 57s/epoch - 17ms/step\n",
            "Epoch 48/100\n",
            "3392/3392 - 56s - loss: 0.0061 - val_loss: 0.0092 - 56s/epoch - 16ms/step\n",
            "Epoch 49/100\n",
            "3392/3392 - 55s - loss: 0.0061 - val_loss: 0.0100 - 55s/epoch - 16ms/step\n",
            "Epoch 50/100\n",
            "3392/3392 - 55s - loss: 0.0060 - val_loss: 0.0084 - 55s/epoch - 16ms/step\n",
            "Epoch 51/100\n",
            "3392/3392 - 57s - loss: 0.0060 - val_loss: 0.0094 - 57s/epoch - 17ms/step\n",
            "Epoch 52/100\n",
            "3392/3392 - 60s - loss: 0.0061 - val_loss: 0.0088 - 60s/epoch - 18ms/step\n",
            "Epoch 53/100\n",
            "3392/3392 - 60s - loss: 0.0061 - val_loss: 0.0094 - 60s/epoch - 18ms/step\n",
            "Epoch 54/100\n"
          ]
        }
      ],
      "source": [
        "model.fit_generator(generator=train_generator, verbose=2, epochs=50, validation_data=validation_generator)\n",
        "trainPredict = model.predict(train_generator)\n",
        "gtestPredict = model.predict(validation_generator)\n",
        "\n",
        "trainPredict = scaler.inverse_transform(trainPredict)\n",
        "trainY_inverse = scaler.inverse_transform(train)\n",
        "gtestPredict = scaler.inverse_transform(gtestPredict)\n",
        "gtestY_inverse = scaler.inverse_transform(gtest)\n",
        "trainScore = math.sqrt(mean_squared_error(trainY_inverse[length:], trainPredict[:,0]))\n",
        "print('Train Score: %.2f RMSE' % (trainScore))\n",
        "\n",
        "gtestScore = math.sqrt(mean_squared_error(gtestY_inverse[length:], gtestPredict[:,0]))\n",
        "print('Test Score: %.2f RMSE' % (gtestScore))"
      ]
    },
    {
      "cell_type": "code",
      "execution_count": null,
      "metadata": {
        "colab": {
          "base_uri": "https://localhost:8080/",
          "height": 265
        },
        "id": "H8o4Gt2xHYmz",
        "outputId": "e2a24290-1e4f-4309-a6a2-ec68a39e102f"
      },
      "outputs": [
        {
          "data": {
            "image/png": "[encoded data removed]",
            "text/plain": [
              "<Figure size 432x288 with 1 Axes>"
            ]
          },
          "metadata": {},
          "output_type": "display_data"
        }
      ],
      "source": [
        "dataframe = read_csv('/content/noisy_machine_temperature_system_failure.csv', usecols=[0])\n",
        "plt.plot(dataframe)\n",
        "dataset = dataframe.values\n",
        "dataset = dataset.astype('float32') #COnvert values to float\n",
        "\n",
        "# Normalization is optional but recommended for neural network as certain\n",
        "# activation functions are sensitive to magnitude of numbers.\n",
        "# normalize the dataset\n",
        "scaler = MinMaxScaler(feature_range=(0, 1)) #Also try QuantileTransformer\n",
        "dataset = scaler.fit_transform(dataset)\n",
        "btest_size = int(len(dataset))\n",
        "btest = dataset[0:btest_size,:]"
      ]
    },
    {
      "cell_type": "code",
      "execution_count": null,
      "metadata": {
        "colab": {
          "base_uri": "https://localhost:8080/"
        },
        "id": "jAT46vsIrnsX",
        "outputId": "a1c9170d-a24d-4cd4-ce6c-e8c19c5463a2"
      },
      "outputs": [
        {
          "name": "stdout",
          "output_type": "stream",
          "text": [
            "(2696, 1)\n"
          ]
        },
        {
          "name": "stderr",
          "output_type": "stream",
          "text": [
            "WARNING:tensorflow:Model was constructed with shape (None, 10, 1) for input KerasTensor(type_spec=TensorSpec(shape=(None, 10, 1), dtype=tf.float32, name='lstm_12_input'), name='lstm_12_input', description=\"created by layer 'lstm_12_input'\"), but it was called on an input with incompatible shape (None, 1, 1).\n"
          ]
        },
        {
          "name": "stdout",
          "output_type": "stream",
          "text": [
            "85/85 [==============================] - 1s 3ms/step\n",
            "(2696, 1)\n",
            "(2696, 1)\n",
            "(2696, 1)\n",
            "Test Score: 89.04 RMSE\n"
          ]
        }
      ],
      "source": [
        "print(btest.shape)\n",
        "btestPredict = model.predict(btest)\n",
        "print(btestPredict .shape)\n",
        "btestPredict = scaler.inverse_transform(btestPredict)\n",
        "print(btestPredict .shape)\n",
        "btestY_inverse = scaler.inverse_transform(btest)\n",
        "print(btestY_inverse.shape)\n",
        "btestScore = math.sqrt(mean_squared_error(btestPredict,btest))\n",
        "print('Test Score: %.2f RMSE' % (btestScore))"
      ]
    }
  ],
  "metadata": {
    "colab": {
      "provenance": [],
      "include_colab_link": true
    },
    "kernelspec": {
      "display_name": "Python 3",
      "name": "python3"
    },
    "language_info": {
      "name": "python"
    }
  },
  "nbformat": 4,
  "nbformat_minor": 0
}
