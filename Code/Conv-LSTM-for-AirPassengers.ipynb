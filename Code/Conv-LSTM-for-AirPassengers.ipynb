{
  "nbformat": 4,
  "nbformat_minor": 0,
  "metadata": {
    "colab": {
      "provenance": [],
      "authorship_tag": "ABX9TyNGL/U5SqyCA7gGuPHXbsvH",
      "include_colab_link": true
    },
    "kernelspec": {
      "name": "python3",
      "display_name": "Python 3"
    },
    "language_info": {
      "name": "python"
    }
  },
  "cells": [
    {
      "cell_type": "markdown",
      "metadata": {
        "id": "view-in-github",
        "colab_type": "text"
      },
      "source": [
        "<a href=\"https://colab.research.google.com/github/csnsnigdha18/Time-Series-Forecasting-and-Point-Anomaly-Detection-of-Sensor-Signals-Using-LSTM-Neural-Network-Arch/blob/main/Code/Conv-LSTM-for-AirPassengers.ipynb\" target=\"_parent\"><img src=\"https://colab.research.google.com/assets/colab-badge.svg\" alt=\"Open In Colab\"/></a>"
      ]
    },
    {
      "cell_type": "code",
      "execution_count": null,
      "metadata": {
        "id": "dZqNwWPYUkJh"
      },
      "outputs": [],
      "source": [
        "import numpy as np\n",
        "import matplotlib.pyplot as plt\n",
        "from pandas import read_csv\n",
        "import math"
      ]
    },
    {
      "cell_type": "code",
      "source": [
        "from keras.models import Sequential\n",
        "from keras.layers import Dense\n",
        "from keras.layers import LSTM, Flatten\n",
        "from sklearn.preprocessing import MinMaxScaler\n",
        "from sklearn.metrics import mean_squared_error\n",
        "#from keras.callbacks import EarlyStopping\n",
        "from keras.layers import ConvLSTM2D"
      ],
      "metadata": {
        "id": "KNONbhhaU2d8"
      },
      "execution_count": null,
      "outputs": []
    },
    {
      "cell_type": "code",
      "source": [
        "# load the dataset\n",
        "dataframe = read_csv('/content/AirPassengers.csv', usecols=[1])\n",
        "plt.plot(dataframe)"
      ],
      "metadata": {
        "id": "6n7n31XjU8Os",
        "colab": {
          "base_uri": "https://localhost:8080/",
          "height": 282
        },
        "outputId": "b1b3eb67-f5da-4eda-cb83-75a598095816"
      },
      "execution_count": null,
      "outputs": [
        {
          "output_type": "execute_result",
          "data": {
            "text/plain": [
              "[<matplotlib.lines.Line2D at 0x7ffa23ad2ed0>]"
            ]
          },
          "metadata": {},
          "execution_count": 3
        },
        {
          "output_type": "display_data",
          "data": {
            "text/plain": [
              "<Figure size 432x288 with 1 Axes>"
            ],
            "image/png": "[encoded data removed]"
          },
          "metadata": {
            "needs_background": "light"
          }
        }
      ]
    },
    {
      "cell_type": "code",
      "source": [
        "#Convert pandas dataframe to numpy array\n",
        "dataset = dataframe.values\n",
        "dataset = dataset.astype('float32') #COnvert values to float"
      ],
      "metadata": {
        "id": "IW-MMQ2HVIZW"
      },
      "execution_count": null,
      "outputs": []
    },
    {
      "cell_type": "code",
      "source": [
        "#LSTM uses sigmoid and tanh that are sensitive to magnitude so values need to be normalized\n",
        "# normalize the dataset\n",
        "scaler = MinMaxScaler(feature_range=(0, 1)) #Also try QuantileTransformer\n",
        "dataset = scaler.fit_transform(dataset)"
      ],
      "metadata": {
        "id": "3UdWyVzoVL9L"
      },
      "execution_count": null,
      "outputs": []
    },
    {
      "cell_type": "code",
      "source": [
        "#We cannot use random way of splitting dataset into train and test as\n",
        "#the sequence of events is important for time series.\n",
        "#So let us take first 60% values for train and the remaining 1/3 for testing\n",
        "# split into train and test sets\n",
        "train_size = int(len(dataset) * 0.66)\n",
        "test_size = len(dataset) - train_size\n",
        "train, test = dataset[0:train_size,:], dataset[train_size:len(dataset),:]"
      ],
      "metadata": {
        "id": "sbzm2CfIVQuL"
      },
      "execution_count": null,
      "outputs": []
    },
    {
      "cell_type": "code",
      "source": [
        "# We cannot fit the model like we normally do for image processing where we have\n",
        "#X and Y. We need to transform our data into something that looks like X and Y values.\n",
        "# This way it can be trained on a sequence rather than indvidual datapoints.\n",
        "# Let us convert into n number of columns for X where we feed sequence of numbers\n",
        "#then the final column as Y where we provide the next number in the sequence as output.\n",
        "# So let us convert an array of values into a dataset matrix\n",
        "\n",
        "#seq_size is the number of previous time steps to use as\n",
        "#input variables to predict the next time period.\n",
        "\n",
        "#creates a dataset where X is the number of passengers at a given time (t, t-1, t-2...)\n",
        "#and Y is the number of passengers at the next time (t + 1).\n",
        "\n",
        "def to_sequences(dataset, seq_size=1):\n",
        "    x = []\n",
        "    y = []\n",
        "\n",
        "    for i in range(len(dataset)-seq_size-1):\n",
        "        #print(i)\n",
        "        window = dataset[i:(i+seq_size), 0]\n",
        "        x.append(window)\n",
        "        y.append(dataset[i+seq_size, 0])\n",
        "\n",
        "    return np.array(x),np.array(y)"
      ],
      "metadata": {
        "id": "iyevdTcgVj2r"
      },
      "execution_count": null,
      "outputs": []
    },
    {
      "cell_type": "code",
      "source": [
        "seq_size = 10  # Number of time steps to look back\n",
        "#Larger sequences (look further back) may improve forecasting."
      ],
      "metadata": {
        "id": "cDPcM5ieVsJZ"
      },
      "execution_count": null,
      "outputs": []
    },
    {
      "cell_type": "code",
      "source": [
        "trainX, trainY = to_sequences(train, seq_size)\n",
        "testX, testY = to_sequences(test, seq_size)"
      ],
      "metadata": {
        "id": "o3BmBXLuVwuy"
      },
      "execution_count": null,
      "outputs": []
    },
    {
      "cell_type": "code",
      "source": [
        "print(\"Shape of training set: {}\".format(trainX.shape))\n",
        "print(\"Shape of test set: {}\".format(testX.shape))"
      ],
      "metadata": {
        "colab": {
          "base_uri": "https://localhost:8080/"
        },
        "id": "_sG0h3c_V0H5",
        "outputId": "f54e24dc-146a-4afd-c332-3b050292b3ff"
      },
      "execution_count": null,
      "outputs": [
        {
          "output_type": "stream",
          "name": "stdout",
          "text": [
            "Shape of training set: (84, 10)\n",
            "Shape of test set: (38, 10)\n"
          ]
        }
      ]
    },
    {
      "cell_type": "code",
      "source": [
        "#ConvLSTM\n",
        "#The layer expects input as a sequence of two-dimensional images,\n",
        "#therefore the shape of input data must be: [samples, timesteps, rows, columns, features]\n",
        "\n",
        "trainX = trainX.reshape((trainX.shape[0], 1, 1, 1, seq_size))\n",
        "testX = testX.reshape((testX.shape[0], 1, 1, 1, seq_size))\n",
        "\n",
        "model = Sequential()\n",
        "model.add(ConvLSTM2D(filters=64, kernel_size=(1,1), activation='relu', input_shape=(1, 1, 1, seq_size)))\n",
        "model.add(Flatten())\n",
        "model.add(Dense(32))\n",
        "model.add(Dense(1))\n",
        "model.compile(optimizer='adam', loss='mean_squared_error')\n",
        "model.summary()\n",
        "#print('Train...')"
      ],
      "metadata": {
        "colab": {
          "base_uri": "https://localhost:8080/"
        },
        "id": "zi30IeQsV5Is",
        "outputId": "b5a19ca5-3181-4b59-cc7c-40850041e6e0"
      },
      "execution_count": null,
      "outputs": [
        {
          "output_type": "stream",
          "name": "stdout",
          "text": [
            "Model: \"sequential_4\"\n",
            "_________________________________________________________________\n",
            " Layer (type)                Output Shape              Param #   \n",
            "=================================================================\n",
            " conv_lstm2d_4 (ConvLSTM2D)  (None, 1, 1, 64)          19200     \n",
            "                                                                 \n",
            " flatten_4 (Flatten)         (None, 64)                0         \n",
            "                                                                 \n",
            " dense_8 (Dense)             (None, 32)                2080      \n",
            "                                                                 \n",
            " dense_9 (Dense)             (None, 1)                 33        \n",
            "                                                                 \n",
            "=================================================================\n",
            "Total params: 21,313\n",
            "Trainable params: 21,313\n",
            "Non-trainable params: 0\n",
            "_________________________________________________________________\n"
          ]
        }
      ]
    },
    {
      "cell_type": "code",
      "source": [
        "model.fit(trainX, trainY, validation_data=(testX, testY),\n",
        "          verbose=2, epochs=100)"
      ],
      "metadata": {
        "colab": {
          "base_uri": "https://localhost:8080/"
        },
        "id": "_2v_c0sXWPVU",
        "outputId": "aa8a5f58-724d-477e-f309-de25baa9f8f3"
      },
      "execution_count": null,
      "outputs": [
        {
          "output_type": "stream",
          "name": "stdout",
          "text": [
            "Epoch 1/100\n",
            "3/3 - 2s - loss: 0.0632 - val_loss: 0.3199 - 2s/epoch - 758ms/step\n",
            "Epoch 2/100\n",
            "3/3 - 0s - loss: 0.0472 - val_loss: 0.2588 - 37ms/epoch - 12ms/step\n",
            "Epoch 3/100\n",
            "3/3 - 0s - loss: 0.0340 - val_loss: 0.2031 - 35ms/epoch - 12ms/step\n",
            "Epoch 4/100\n",
            "3/3 - 0s - loss: 0.0235 - val_loss: 0.1528 - 31ms/epoch - 10ms/step\n",
            "Epoch 5/100\n",
            "3/3 - 0s - loss: 0.0156 - val_loss: 0.1094 - 31ms/epoch - 10ms/step\n",
            "Epoch 6/100\n",
            "3/3 - 0s - loss: 0.0118 - val_loss: 0.0742 - 31ms/epoch - 10ms/step\n",
            "Epoch 7/100\n",
            "3/3 - 0s - loss: 0.0098 - val_loss: 0.0505 - 35ms/epoch - 12ms/step\n",
            "Epoch 8/100\n",
            "3/3 - 0s - loss: 0.0101 - val_loss: 0.0377 - 29ms/epoch - 10ms/step\n",
            "Epoch 9/100\n",
            "3/3 - 0s - loss: 0.0108 - val_loss: 0.0330 - 35ms/epoch - 12ms/step\n",
            "Epoch 10/100\n",
            "3/3 - 0s - loss: 0.0108 - val_loss: 0.0330 - 31ms/epoch - 10ms/step\n",
            "Epoch 11/100\n",
            "3/3 - 0s - loss: 0.0099 - val_loss: 0.0357 - 32ms/epoch - 11ms/step\n",
            "Epoch 12/100\n",
            "3/3 - 0s - loss: 0.0089 - val_loss: 0.0399 - 32ms/epoch - 11ms/step\n",
            "Epoch 13/100\n",
            "3/3 - 0s - loss: 0.0081 - val_loss: 0.0446 - 35ms/epoch - 12ms/step\n",
            "Epoch 14/100\n",
            "3/3 - 0s - loss: 0.0076 - val_loss: 0.0463 - 32ms/epoch - 11ms/step\n",
            "Epoch 15/100\n",
            "3/3 - 0s - loss: 0.0074 - val_loss: 0.0462 - 32ms/epoch - 11ms/step\n",
            "Epoch 16/100\n",
            "3/3 - 0s - loss: 0.0072 - val_loss: 0.0424 - 39ms/epoch - 13ms/step\n",
            "Epoch 17/100\n",
            "3/3 - 0s - loss: 0.0068 - val_loss: 0.0374 - 50ms/epoch - 17ms/step\n",
            "Epoch 18/100\n",
            "3/3 - 0s - loss: 0.0063 - val_loss: 0.0326 - 30ms/epoch - 10ms/step\n",
            "Epoch 19/100\n",
            "3/3 - 0s - loss: 0.0059 - val_loss: 0.0277 - 33ms/epoch - 11ms/step\n",
            "Epoch 20/100\n",
            "3/3 - 0s - loss: 0.0056 - val_loss: 0.0242 - 39ms/epoch - 13ms/step\n",
            "Epoch 21/100\n",
            "3/3 - 0s - loss: 0.0053 - val_loss: 0.0219 - 30ms/epoch - 10ms/step\n",
            "Epoch 22/100\n",
            "3/3 - 0s - loss: 0.0051 - val_loss: 0.0208 - 37ms/epoch - 12ms/step\n",
            "Epoch 23/100\n",
            "3/3 - 0s - loss: 0.0048 - val_loss: 0.0200 - 35ms/epoch - 12ms/step\n",
            "Epoch 24/100\n",
            "3/3 - 0s - loss: 0.0045 - val_loss: 0.0194 - 30ms/epoch - 10ms/step\n",
            "Epoch 25/100\n",
            "3/3 - 0s - loss: 0.0043 - val_loss: 0.0187 - 31ms/epoch - 10ms/step\n",
            "Epoch 26/100\n",
            "3/3 - 0s - loss: 0.0041 - val_loss: 0.0182 - 31ms/epoch - 10ms/step\n",
            "Epoch 27/100\n",
            "3/3 - 0s - loss: 0.0039 - val_loss: 0.0179 - 29ms/epoch - 10ms/step\n",
            "Epoch 28/100\n",
            "3/3 - 0s - loss: 0.0038 - val_loss: 0.0183 - 30ms/epoch - 10ms/step\n",
            "Epoch 29/100\n",
            "3/3 - 0s - loss: 0.0036 - val_loss: 0.0193 - 30ms/epoch - 10ms/step\n",
            "Epoch 30/100\n",
            "3/3 - 0s - loss: 0.0036 - val_loss: 0.0202 - 34ms/epoch - 11ms/step\n",
            "Epoch 31/100\n",
            "3/3 - 0s - loss: 0.0035 - val_loss: 0.0205 - 35ms/epoch - 12ms/step\n",
            "Epoch 32/100\n",
            "3/3 - 0s - loss: 0.0034 - val_loss: 0.0202 - 30ms/epoch - 10ms/step\n",
            "Epoch 33/100\n",
            "3/3 - 0s - loss: 0.0034 - val_loss: 0.0193 - 32ms/epoch - 11ms/step\n",
            "Epoch 34/100\n",
            "3/3 - 0s - loss: 0.0033 - val_loss: 0.0200 - 32ms/epoch - 11ms/step\n",
            "Epoch 35/100\n",
            "3/3 - 0s - loss: 0.0032 - val_loss: 0.0208 - 31ms/epoch - 10ms/step\n",
            "Epoch 36/100\n",
            "3/3 - 0s - loss: 0.0032 - val_loss: 0.0218 - 35ms/epoch - 12ms/step\n",
            "Epoch 37/100\n",
            "3/3 - 0s - loss: 0.0031 - val_loss: 0.0214 - 37ms/epoch - 12ms/step\n",
            "Epoch 38/100\n",
            "3/3 - 0s - loss: 0.0031 - val_loss: 0.0199 - 33ms/epoch - 11ms/step\n",
            "Epoch 39/100\n",
            "3/3 - 0s - loss: 0.0030 - val_loss: 0.0187 - 32ms/epoch - 11ms/step\n",
            "Epoch 40/100\n",
            "3/3 - 0s - loss: 0.0030 - val_loss: 0.0191 - 33ms/epoch - 11ms/step\n",
            "Epoch 41/100\n",
            "3/3 - 0s - loss: 0.0029 - val_loss: 0.0191 - 38ms/epoch - 13ms/step\n",
            "Epoch 42/100\n",
            "3/3 - 0s - loss: 0.0029 - val_loss: 0.0184 - 32ms/epoch - 11ms/step\n",
            "Epoch 43/100\n",
            "3/3 - 0s - loss: 0.0029 - val_loss: 0.0189 - 43ms/epoch - 14ms/step\n",
            "Epoch 44/100\n",
            "3/3 - 0s - loss: 0.0028 - val_loss: 0.0181 - 33ms/epoch - 11ms/step\n",
            "Epoch 45/100\n",
            "3/3 - 0s - loss: 0.0028 - val_loss: 0.0181 - 30ms/epoch - 10ms/step\n",
            "Epoch 46/100\n",
            "3/3 - 0s - loss: 0.0027 - val_loss: 0.0177 - 33ms/epoch - 11ms/step\n",
            "Epoch 47/100\n",
            "3/3 - 0s - loss: 0.0027 - val_loss: 0.0170 - 35ms/epoch - 12ms/step\n",
            "Epoch 48/100\n",
            "3/3 - 0s - loss: 0.0026 - val_loss: 0.0178 - 34ms/epoch - 11ms/step\n",
            "Epoch 49/100\n",
            "3/3 - 0s - loss: 0.0026 - val_loss: 0.0169 - 32ms/epoch - 11ms/step\n",
            "Epoch 50/100\n",
            "3/3 - 0s - loss: 0.0026 - val_loss: 0.0157 - 48ms/epoch - 16ms/step\n",
            "Epoch 51/100\n",
            "3/3 - 0s - loss: 0.0026 - val_loss: 0.0145 - 36ms/epoch - 12ms/step\n",
            "Epoch 52/100\n",
            "3/3 - 0s - loss: 0.0025 - val_loss: 0.0156 - 30ms/epoch - 10ms/step\n",
            "Epoch 53/100\n",
            "3/3 - 0s - loss: 0.0025 - val_loss: 0.0159 - 27ms/epoch - 9ms/step\n",
            "Epoch 54/100\n",
            "3/3 - 0s - loss: 0.0024 - val_loss: 0.0148 - 32ms/epoch - 11ms/step\n",
            "Epoch 55/100\n",
            "3/3 - 0s - loss: 0.0024 - val_loss: 0.0143 - 30ms/epoch - 10ms/step\n",
            "Epoch 56/100\n",
            "3/3 - 0s - loss: 0.0024 - val_loss: 0.0129 - 28ms/epoch - 9ms/step\n",
            "Epoch 57/100\n",
            "3/3 - 0s - loss: 0.0024 - val_loss: 0.0133 - 28ms/epoch - 9ms/step\n",
            "Epoch 58/100\n",
            "3/3 - 0s - loss: 0.0023 - val_loss: 0.0136 - 29ms/epoch - 10ms/step\n",
            "Epoch 59/100\n",
            "3/3 - 0s - loss: 0.0023 - val_loss: 0.0139 - 32ms/epoch - 11ms/step\n",
            "Epoch 60/100\n",
            "3/3 - 0s - loss: 0.0023 - val_loss: 0.0151 - 35ms/epoch - 12ms/step\n",
            "Epoch 61/100\n",
            "3/3 - 0s - loss: 0.0022 - val_loss: 0.0128 - 34ms/epoch - 11ms/step\n",
            "Epoch 62/100\n",
            "3/3 - 0s - loss: 0.0022 - val_loss: 0.0123 - 32ms/epoch - 11ms/step\n",
            "Epoch 63/100\n",
            "3/3 - 0s - loss: 0.0022 - val_loss: 0.0120 - 32ms/epoch - 11ms/step\n",
            "Epoch 64/100\n",
            "3/3 - 0s - loss: 0.0022 - val_loss: 0.0107 - 32ms/epoch - 11ms/step\n",
            "Epoch 65/100\n",
            "3/3 - 0s - loss: 0.0021 - val_loss: 0.0117 - 29ms/epoch - 10ms/step\n",
            "Epoch 66/100\n",
            "3/3 - 0s - loss: 0.0021 - val_loss: 0.0139 - 30ms/epoch - 10ms/step\n",
            "Epoch 67/100\n",
            "3/3 - 0s - loss: 0.0021 - val_loss: 0.0130 - 31ms/epoch - 10ms/step\n",
            "Epoch 68/100\n",
            "3/3 - 0s - loss: 0.0020 - val_loss: 0.0118 - 33ms/epoch - 11ms/step\n",
            "Epoch 69/100\n",
            "3/3 - 0s - loss: 0.0020 - val_loss: 0.0108 - 32ms/epoch - 11ms/step\n",
            "Epoch 70/100\n",
            "3/3 - 0s - loss: 0.0020 - val_loss: 0.0105 - 32ms/epoch - 11ms/step\n",
            "Epoch 71/100\n",
            "3/3 - 0s - loss: 0.0020 - val_loss: 0.0107 - 43ms/epoch - 14ms/step\n",
            "Epoch 72/100\n",
            "3/3 - 0s - loss: 0.0019 - val_loss: 0.0107 - 33ms/epoch - 11ms/step\n",
            "Epoch 73/100\n",
            "3/3 - 0s - loss: 0.0019 - val_loss: 0.0106 - 32ms/epoch - 11ms/step\n",
            "Epoch 74/100\n",
            "3/3 - 0s - loss: 0.0019 - val_loss: 0.0102 - 32ms/epoch - 11ms/step\n",
            "Epoch 75/100\n",
            "3/3 - 0s - loss: 0.0019 - val_loss: 0.0098 - 33ms/epoch - 11ms/step\n",
            "Epoch 76/100\n",
            "3/3 - 0s - loss: 0.0018 - val_loss: 0.0098 - 34ms/epoch - 11ms/step\n",
            "Epoch 77/100\n",
            "3/3 - 0s - loss: 0.0018 - val_loss: 0.0093 - 31ms/epoch - 10ms/step\n",
            "Epoch 78/100\n",
            "3/3 - 0s - loss: 0.0018 - val_loss: 0.0098 - 37ms/epoch - 12ms/step\n",
            "Epoch 79/100\n",
            "3/3 - 0s - loss: 0.0018 - val_loss: 0.0101 - 34ms/epoch - 11ms/step\n",
            "Epoch 80/100\n",
            "3/3 - 0s - loss: 0.0017 - val_loss: 0.0101 - 32ms/epoch - 11ms/step\n",
            "Epoch 81/100\n",
            "3/3 - 0s - loss: 0.0017 - val_loss: 0.0093 - 37ms/epoch - 12ms/step\n",
            "Epoch 82/100\n",
            "3/3 - 0s - loss: 0.0017 - val_loss: 0.0089 - 33ms/epoch - 11ms/step\n",
            "Epoch 83/100\n",
            "3/3 - 0s - loss: 0.0017 - val_loss: 0.0090 - 33ms/epoch - 11ms/step\n",
            "Epoch 84/100\n",
            "3/3 - 0s - loss: 0.0016 - val_loss: 0.0103 - 35ms/epoch - 12ms/step\n",
            "Epoch 85/100\n",
            "3/3 - 0s - loss: 0.0016 - val_loss: 0.0102 - 34ms/epoch - 11ms/step\n",
            "Epoch 86/100\n",
            "3/3 - 0s - loss: 0.0016 - val_loss: 0.0089 - 36ms/epoch - 12ms/step\n",
            "Epoch 87/100\n",
            "3/3 - 0s - loss: 0.0016 - val_loss: 0.0088 - 30ms/epoch - 10ms/step\n",
            "Epoch 88/100\n",
            "3/3 - 0s - loss: 0.0016 - val_loss: 0.0098 - 35ms/epoch - 12ms/step\n",
            "Epoch 89/100\n",
            "3/3 - 0s - loss: 0.0015 - val_loss: 0.0075 - 32ms/epoch - 11ms/step\n",
            "Epoch 90/100\n",
            "3/3 - 0s - loss: 0.0015 - val_loss: 0.0069 - 28ms/epoch - 9ms/step\n",
            "Epoch 91/100\n",
            "3/3 - 0s - loss: 0.0015 - val_loss: 0.0078 - 29ms/epoch - 10ms/step\n",
            "Epoch 92/100\n",
            "3/3 - 0s - loss: 0.0014 - val_loss: 0.0097 - 30ms/epoch - 10ms/step\n",
            "Epoch 93/100\n",
            "3/3 - 0s - loss: 0.0015 - val_loss: 0.0079 - 33ms/epoch - 11ms/step\n",
            "Epoch 94/100\n",
            "3/3 - 0s - loss: 0.0014 - val_loss: 0.0064 - 29ms/epoch - 10ms/step\n",
            "Epoch 95/100\n",
            "3/3 - 0s - loss: 0.0014 - val_loss: 0.0069 - 30ms/epoch - 10ms/step\n",
            "Epoch 96/100\n",
            "3/3 - 0s - loss: 0.0014 - val_loss: 0.0084 - 28ms/epoch - 9ms/step\n",
            "Epoch 97/100\n",
            "3/3 - 0s - loss: 0.0014 - val_loss: 0.0072 - 29ms/epoch - 10ms/step\n",
            "Epoch 98/100\n",
            "3/3 - 0s - loss: 0.0013 - val_loss: 0.0062 - 30ms/epoch - 10ms/step\n",
            "Epoch 99/100\n",
            "3/3 - 0s - loss: 0.0013 - val_loss: 0.0067 - 35ms/epoch - 12ms/step\n",
            "Epoch 100/100\n",
            "3/3 - 0s - loss: 0.0013 - val_loss: 0.0068 - 34ms/epoch - 11ms/step\n"
          ]
        },
        {
          "output_type": "execute_result",
          "data": {
            "text/plain": [
              "<keras.callbacks.History at 0x7fec4a59df10>"
            ]
          },
          "metadata": {},
          "execution_count": 96
        }
      ]
    },
    {
      "cell_type": "code",
      "source": [
        "# make predictions\n",
        "\n",
        "trainPredict = model.predict(trainX)\n",
        "testPredict = model.predict(testX)"
      ],
      "metadata": {
        "id": "dqIBm0jSWWfH",
        "colab": {
          "base_uri": "https://localhost:8080/"
        },
        "outputId": "ba6315fb-280b-463b-ecf8-b7ea46a5686e"
      },
      "execution_count": null,
      "outputs": [
        {
          "output_type": "stream",
          "name": "stdout",
          "text": [
            "3/3 [==============================] - 0s 4ms/step\n",
            "2/2 [==============================] - 0s 4ms/step\n"
          ]
        }
      ]
    },
    {
      "cell_type": "code",
      "source": [
        "# invert predictions back to prescaled values\n",
        "#This is to compare with original input values\n",
        "#SInce we used minmaxscaler we can now use scaler.inverse_transform\n",
        "#to invert the transformation.\n",
        "trainPredict = scaler.inverse_transform(trainPredict)\n",
        "trainY = scaler.inverse_transform([trainY])\n",
        "testPredict = scaler.inverse_transform(testPredict)\n",
        "testY = scaler.inverse_transform([testY])"
      ],
      "metadata": {
        "id": "8ipmw7z2WjIs"
      },
      "execution_count": null,
      "outputs": []
    },
    {
      "cell_type": "code",
      "source": [
        "# calculate root mean squared error\n",
        "trainScore = math.sqrt(mean_squared_error(trainY[0], trainPredict[:,0]))\n",
        "print('Train Score: %.2f RMSE' % (trainScore))"
      ],
      "metadata": {
        "colab": {
          "base_uri": "https://localhost:8080/"
        },
        "id": "a7SO5xoiWm43",
        "outputId": "8a056949-ffde-47e8-f815-a0662602cf13"
      },
      "execution_count": null,
      "outputs": [
        {
          "output_type": "stream",
          "name": "stdout",
          "text": [
            "Train Score: 18.29 RMSE\n"
          ]
        }
      ]
    },
    {
      "cell_type": "code",
      "source": [
        "testScore = math.sqrt(mean_squared_error(testY[0], testPredict[:,0]))\n",
        "print('Test Score: %.2f RMSE' % (testScore))"
      ],
      "metadata": {
        "colab": {
          "base_uri": "https://localhost:8080/"
        },
        "id": "C7KdrUYmWqOc",
        "outputId": "cd7fc75d-d0b3-4510-cd3e-cdb3b16d4e93"
      },
      "execution_count": null,
      "outputs": [
        {
          "output_type": "stream",
          "name": "stdout",
          "text": [
            "Test Score: 42.60 RMSE\n"
          ]
        }
      ]
    },
    {
      "cell_type": "code",
      "source": [
        "# shift train predictions for plotting\n",
        "#we must shift the predictions so that they align on the x-axis with the original dataset.\n",
        "trainPredictPlot = np.empty_like(dataset)\n",
        "trainPredictPlot[:, :] = np.nan\n",
        "trainPredictPlot[seq_size:len(trainPredict)+seq_size, :] = trainPredict"
      ],
      "metadata": {
        "id": "u7qjd8poWtbz"
      },
      "execution_count": null,
      "outputs": []
    },
    {
      "cell_type": "code",
      "source": [
        "# shift test predictions for plotting\n",
        "testPredictPlot = np.empty_like(dataset)\n",
        "testPredictPlot[:, :] = np.nan\n",
        "testPredictPlot[len(trainPredict)+(seq_size*2)+1:len(dataset)-1, :] = testPredict"
      ],
      "metadata": {
        "id": "Ef9hJcN-Wxau"
      },
      "execution_count": null,
      "outputs": []
    },
    {
      "cell_type": "code",
      "source": [
        "# plot baseline and predictions\n",
        "plt.plot(scaler.inverse_transform(dataset))\n",
        "plt.plot(trainPredictPlot)\n",
        "plt.plot(testPredictPlot)\n",
        "plt.show()"
      ],
      "metadata": {
        "colab": {
          "base_uri": "https://localhost:8080/"
        },
        "id": "JzdPbW0qW0pJ",
        "outputId": "51865858-4597-423c-826e-2ba3058370af"
      },
      "execution_count": null,
      "outputs": [
        {
          "output_type": "display_data",
          "data": {
            "text/plain": [
              "<Figure size 432x288 with 1 Axes>"
            ],
            "image/png": "[encoded data removed]"
          },
          "metadata": {
            "needs_background": "light"
          }
        }
      ]
    }
  ]
}