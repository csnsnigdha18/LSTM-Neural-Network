{
  "nbformat": 4,
  "nbformat_minor": 0,
  "metadata": {
    "colab": {
      "provenance": [],
      "mount_file_id": "190WkSZtqNmYpuYv-TKzAOS3Qj-39KP0Z",
      "authorship_tag": "ABX9TyN6GRMusFl2VzqMb2GsVUmA",
      "include_colab_link": true
    },
    "kernelspec": {
      "name": "python3",
      "display_name": "Python 3"
    },
    "language_info": {
      "name": "python"
    }
  },
  "cells": [
    {
      "cell_type": "markdown",
      "metadata": {
        "id": "view-in-github",
        "colab_type": "text"
      },
      "source": [
        "<a href=\"https://colab.research.google.com/github/csnsnigdha18/LSTM-Neural-Network/blob/main/Copy_of_Stacked_7_layers.ipynb\" target=\"_parent\"><img src=\"https://colab.research.google.com/assets/colab-badge.svg\" alt=\"Open In Colab\"/></a>"
      ]
    },
    {
      "cell_type": "code",
      "execution_count": null,
      "metadata": {
        "id": "_UON8fNeTVwn"
      },
      "outputs": [],
      "source": [
        "import numpy as np\n",
        "import matplotlib.pyplot as plt\n",
        "from pandas import read_csv\n",
        "import math\n",
        "\n",
        "from keras.models import Sequential\n",
        "from keras.layers import Dense, SimpleRNN, LSTM,Flatten\n",
        "from sklearn.preprocessing import MinMaxScaler\n",
        "from sklearn.metrics import mean_squared_error\n",
        "from keras.layers import ConvLSTM2D"
      ]
    },
    {
      "cell_type": "code",
      "source": [
        "dataframe = read_csv('/content/drive/MyDrive/LSTM/good_ambient_temperature_system_failure.csv', usecols=[0])\n",
        "plt.plot(dataframe)\n"
      ],
      "metadata": {
        "id": "AjCVtihhTafO",
        "colab": {
          "base_uri": "https://localhost:8080/",
          "height": 282
        },
        "outputId": "bf7370c4-a8e1-48ad-dac4-ae52eb59f068"
      },
      "execution_count": null,
      "outputs": [
        {
          "output_type": "execute_result",
          "data": {
            "text/plain": [
              "[<matplotlib.lines.Line2D at 0x7f9d3c830110>]"
            ]
          },
          "metadata": {},
          "execution_count": 4
        },
        {
          "output_type": "display_data",
          "data": {
            "text/plain": [
              "<Figure size 432x288 with 1 Axes>"
            ],
            "image/png": "[encoded data removed]"
          },
          "metadata": {
            "needs_background": "light"
          }
        }
      ]
    },
    {
      "cell_type": "code",
      "source": [
        "#Convert pandas dataframe to numpy array\n",
        "dataset = dataframe.values\n",
        "dataset = dataset.astype('float32') #COnvert values to float\n",
        "\n",
        "# Normalization is optional but recommended for neural network as certain\n",
        "# activation functions are sensitive to magnitude of numbers.\n",
        "# normalize the dataset\n",
        "scaler = MinMaxScaler(feature_range=(0, 1)) #Also try QuantileTransformer\n",
        "dataset = scaler.fit_transform(dataset)\n",
        "\n",
        "#We cannot use random way of splitting dataset into train and test as\n",
        "#the sequence of events is important for time series.\n",
        "#So let us take first 60% values for train and the remaining 1/3 for testing\n",
        "# split into train and test sets\n",
        "train_size = int(len(dataset) * 0.66)\n",
        "gtest_size = len(dataset) - train_size\n",
        "train, gtest = dataset[0:train_size,:], dataset[train_size:len(dataset),:]"
      ],
      "metadata": {
        "id": "7ZXFjkCKTdxA"
      },
      "execution_count": null,
      "outputs": []
    },
    {
      "cell_type": "code",
      "source": [
        "from keras.preprocessing.sequence import TimeseriesGenerator # Generates batches for sequence data\n",
        "seq_size = length =  10\n",
        "batch_size = 1\n",
        "train_generator = TimeseriesGenerator(train,train,length=length,batch_size=batch_size)\n",
        "print(\"Total number of samples in the original training data = \", len(train)) # 95\n",
        "print(\"Total number of samples in the generated data = \", len(train_generator)) # 55"
      ],
      "metadata": {
        "id": "NGX49oL3ThvR",
        "colab": {
          "base_uri": "https://localhost:8080/"
        },
        "outputId": "f34853f9-5b25-4e27-a1fb-1ed6811679d3"
      },
      "execution_count": null,
      "outputs": [
        {
          "output_type": "stream",
          "name": "stdout",
          "text": [
            "Total number of samples in the original training data =  3402\n",
            "Total number of samples in the generated data =  3392\n"
          ]
        }
      ]
    },
    {
      "cell_type": "code",
      "source": [
        "x, y = train_generator[0]\n",
        "validation_generator = TimeseriesGenerator(gtest, gtest, length=length ,batch_size=batch_size)\n"
      ],
      "metadata": {
        "id": "nErngZbzTlZ2"
      },
      "execution_count": null,
      "outputs": []
    },
    {
      "cell_type": "code",
      "source": [
        "num_features = 1"
      ],
      "metadata": {
        "id": "TSdtf2oQTqPZ"
      },
      "execution_count": null,
      "outputs": []
    },
    {
      "cell_type": "code",
      "source": [
        "model = Sequential()\n",
        "model.add(LSTM(30, activation='relu', return_sequences=True, input_shape=(length, num_features)))\n",
        "model.add(LSTM(30, return_sequences=True))\n",
        "model.add(LSTM(30, return_sequences=True))\n",
        "model.add(LSTM(30, return_sequences=True))\n",
        "model.add(LSTM(30, return_sequences=True))\n",
        "model.add(LSTM(30, return_sequences=True))\n",
        "model.add(LSTM(30, activation='relu'))\n",
        "model.add(Dense(1))\n",
        "model.compile(optimizer='adam', loss='mean_squared_error')\n"
      ],
      "metadata": {
        "id": "4chYP95kTuya"
      },
      "execution_count": null,
      "outputs": []
    },
    {
      "cell_type": "code",
      "source": [
        "model.fit_generator(generator=train_generator, verbose=2, epochs=100, validation_data=validation_generator)\n",
        "trainPredict = model.predict(train_generator)\n",
        "gtestPredict = model.predict(validation_generator)\n",
        "\n",
        "trainPredict = scaler.inverse_transform(trainPredict)\n",
        "trainY_inverse = scaler.inverse_transform(train)\n",
        "gtestPredict = scaler.inverse_transform(gtestPredict)\n",
        "gtestY_inverse = scaler.inverse_transform(gtest)\n",
        "trainScore = math.sqrt(mean_squared_error(trainY_inverse[length:], trainPredict[:,0]))\n",
        "print('Train Score: %.2f RMSE' % (trainScore))\n",
        "\n",
        "gtestScore = math.sqrt(mean_squared_error(gtestY_inverse[length:], gtestPredict[:,0]))\n",
        "print('Test Score: %.2f RMSE' % (gtestScore))"
      ],
      "metadata": {
        "id": "fs3wHK-aTzRQ",
        "colab": {
          "base_uri": "https://localhost:8080/"
        },
        "outputId": "4da8eae0-960c-4a59-c9e1-d5cfa6a636a3"
      },
      "execution_count": null,
      "outputs": [
        {
          "output_type": "stream",
          "name": "stdout",
          "text": [
            "Epoch 1/100\n"
          ]
        },
        {
          "output_type": "stream",
          "name": "stderr",
          "text": [
            "/usr/local/lib/python3.7/dist-packages/ipykernel_launcher.py:1: UserWarning: `Model.fit_generator` is deprecated and will be removed in a future version. Please use `Model.fit`, which supports generators.\n",
            "  \"\"\"Entry point for launching an IPython kernel.\n"
          ]
        },
        {
          "output_type": "stream",
          "name": "stdout",
          "text": [
            "3392/3392 - 100s - loss: 0.0328 - val_loss: 0.0460 - 100s/epoch - 29ms/step\n",
            "Epoch 2/100\n",
            "3392/3392 - 84s - loss: 0.0107 - val_loss: 0.0130 - 84s/epoch - 25ms/step\n",
            "Epoch 3/100\n",
            "3392/3392 - 85s - loss: 0.0084 - val_loss: 0.0110 - 85s/epoch - 25ms/step\n",
            "Epoch 4/100\n",
            "3392/3392 - 83s - loss: 0.0080 - val_loss: 0.0091 - 83s/epoch - 25ms/step\n",
            "Epoch 5/100\n",
            "3392/3392 - 84s - loss: 0.0076 - val_loss: 0.0083 - 84s/epoch - 25ms/step\n",
            "Epoch 6/100\n",
            "3392/3392 - 83s - loss: 0.0078 - val_loss: 0.0109 - 83s/epoch - 24ms/step\n",
            "Epoch 7/100\n",
            "3392/3392 - 82s - loss: 0.0075 - val_loss: 0.0105 - 82s/epoch - 24ms/step\n",
            "Epoch 8/100\n",
            "3392/3392 - 84s - loss: 0.0074 - val_loss: 0.0102 - 84s/epoch - 25ms/step\n",
            "Epoch 9/100\n",
            "3392/3392 - 83s - loss: 0.0073 - val_loss: 0.0105 - 83s/epoch - 24ms/step\n",
            "Epoch 10/100\n",
            "3392/3392 - 82s - loss: 0.0073 - val_loss: 0.0089 - 82s/epoch - 24ms/step\n",
            "Epoch 11/100\n",
            "3392/3392 - 84s - loss: 0.0072 - val_loss: 0.0100 - 84s/epoch - 25ms/step\n",
            "Epoch 12/100\n",
            "3392/3392 - 84s - loss: 0.0072 - val_loss: 0.0090 - 84s/epoch - 25ms/step\n",
            "Epoch 13/100\n",
            "3392/3392 - 82s - loss: 0.0071 - val_loss: 0.0097 - 82s/epoch - 24ms/step\n",
            "Epoch 14/100\n"
          ]
        }
      ]
    }
  ]
}